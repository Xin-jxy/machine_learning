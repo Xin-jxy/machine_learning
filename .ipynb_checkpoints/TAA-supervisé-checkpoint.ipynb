{
 "cells": [
  {
   "cell_type": "code",
   "execution_count": 3,
   "id": "8323294e",
   "metadata": {},
   "outputs": [],
   "source": [
    "import numpy as np \n",
    "np.set_printoptions(threshold=10000,suppress=True) \n",
    "import pandas as pd\n",
    "import warnings\n",
    "import matplotlib.pyplot as plt \n",
    "warnings.filterwarnings('ignore')"
   ]
  },
  {
   "cell_type": "code",
   "execution_count": 12,
   "id": "4119de86",
   "metadata": {},
   "outputs": [],
   "source": [
    "data = pd.read_csv('./TP_AS/credit_scoring.csv', sep=';')"
   ]
  },
  {
   "cell_type": "code",
   "execution_count": 77,
   "id": "108ce55d",
   "metadata": {},
   "outputs": [],
   "source": [
    "df=pd.DataFrame(data)\n",
    "#separate status from whole dataframe\n",
    "y=np.array(df[\"Status\"]).reshape(-1,1)\n",
    "#drop off the column status and transfert it to array for analysis\n",
    "df_sep=df.drop(columns=[\"Status\"])\n",
    "X=np.array(df_sep)"
   ]
  },
  {
   "cell_type": "code",
   "execution_count": 79,
   "id": "8e619ea4",
   "metadata": {},
   "outputs": [
    {
     "data": {
      "text/plain": [
       "(4375, 1)"
      ]
     },
     "execution_count": 79,
     "metadata": {},
     "output_type": "execute_result"
    }
   ],
   "source": [
    "#discover our array data\n",
    "np.shape(y)\n",
    "#plt.hist(X) ##maybe??"
   ]
  },
  {
   "cell_type": "code",
   "execution_count": 80,
   "id": "c6856fef",
   "metadata": {},
   "outputs": [],
   "source": [
    "#separate with the prof's suggestion\n",
    "from sklearn.model_selection import train_test_split\n",
    "X_train, X_test, y_train, y_test=train_test_split(X,y, random_state=1)"
   ]
  },
  {
   "cell_type": "code",
   "execution_count": 83,
   "id": "3415bda1",
   "metadata": {},
   "outputs": [
    {
     "data": {
      "text/plain": [
       "0.7193784277879341"
      ]
     },
     "execution_count": 83,
     "metadata": {},
     "output_type": "execute_result"
    }
   ],
   "source": [
    "#CART : classification and regression trees\n",
    "from sklearn.tree import DecisionTreeClassifier\n",
    "tree=DecisionTreeClassifier(random_state=1)\n",
    "digit_tree=tree.fit(X_train, y_train)\n",
    "# Estimation de l’erreur de prévision\n",
    "digit_tree.score(X_test,y_test)"
   ]
  },
  {
   "cell_type": "code",
   "execution_count": 90,
   "id": "5c6e4eed",
   "metadata": {},
   "outputs": [
    {
     "data": {
      "text/plain": [
       "0.7330895795246801"
      ]
     },
     "execution_count": 90,
     "metadata": {},
     "output_type": "execute_result"
    }
   ],
   "source": [
    "#k-plus-proches-voisins avec k=5\n",
    "from sklearn.neighbors import KNeighborsClassifier\n",
    "knn = KNeighborsClassifier(n_neighbors=5)\n",
    "digit_knn=knn.fit(X_train, y_train)\n",
    "# Estimation de l’erreur de prévision\n",
    "# sur l’échantillon test\n",
    "digit_knn.score(X_test,y_test)"
   ]
  },
  {
   "cell_type": "code",
   "execution_count": 93,
   "id": "95e2c65a",
   "metadata": {},
   "outputs": [
    {
     "data": {
      "text/plain": [
       "0.7330895795246801"
      ]
     },
     "execution_count": 93,
     "metadata": {},
     "output_type": "execute_result"
    }
   ],
   "source": [
    "#MultilayerPerceptron\n",
    "from sklearn.neural_network import MLPClassifier\n",
    "clf = MLPClassifier(solver='lbfgs', alpha=1e-5,hidden_layer_sizes=(40,20), random_state=1)\n",
    "digit_clf=clf.fit(X_train, y_train)\n",
    "digit_clf.score(X_test,y_test)"
   ]
  },
  {
   "cell_type": "code",
   "execution_count": null,
   "id": "1bc49078",
   "metadata": {},
   "outputs": [],
   "source": []
  }
 ],
 "metadata": {
  "kernelspec": {
   "display_name": "Python 3 (ipykernel)",
   "language": "python",
   "name": "python3"
  },
  "language_info": {
   "codemirror_mode": {
    "name": "ipython",
    "version": 3
   },
   "file_extension": ".py",
   "mimetype": "text/x-python",
   "name": "python",
   "nbconvert_exporter": "python",
   "pygments_lexer": "ipython3",
   "version": "3.8.2"
  }
 },
 "nbformat": 4,
 "nbformat_minor": 5
}
