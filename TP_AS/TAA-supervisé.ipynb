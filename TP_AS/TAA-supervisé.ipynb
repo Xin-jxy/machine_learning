{
 "cells": [
  {
   "cell_type": "code",
   "execution_count": 2,
   "id": "8323294e",
   "metadata": {},
   "outputs": [],
   "source": [
    "import numpy as np \n",
    "np.set_printoptions(threshold=10000,suppress=True) \n",
    "import pandas as pd\n",
    "import warnings\n",
    "import matplotlib.pyplot as plt \n",
    "warnings.filterwarnings('ignore')"
   ]
  },
  {
   "cell_type": "markdown",
   "id": "a18396cb",
   "metadata": {},
   "source": [
    "### 1. Chargement des données et préparation"
   ]
  },
  {
   "cell_type": "code",
   "execution_count": 3,
   "id": "4119de86",
   "metadata": {},
   "outputs": [],
   "source": [
    "data = pd.read_csv('./TP_AS/credit_scoring.csv', sep=';')"
   ]
  },
  {
   "cell_type": "code",
   "execution_count": 4,
   "id": "108ce55d",
   "metadata": {},
   "outputs": [],
   "source": [
    "df=pd.DataFrame(data)\n",
    "#separate status from whole dataframe\n",
    "y=np.array(df[\"Status\"]).reshape(-1,1)\n",
    "#drop off the column status and transfert it to array for analysis\n",
    "df_sep=df.drop(columns=[\"Status\"])\n",
    "X=np.array(df_sep)"
   ]
  },
  {
   "cell_type": "markdown",
   "id": "358667c9",
   "metadata": {},
   "source": [
    "## need to be reworked"
   ]
  },
  {
   "cell_type": "code",
   "execution_count": 5,
   "id": "8e619ea4",
   "metadata": {},
   "outputs": [
    {
     "data": {
      "text/plain": [
       "(4375, 1)"
      ]
     },
     "execution_count": 5,
     "metadata": {},
     "output_type": "execute_result"
    }
   ],
   "source": [
    "#discover our array data\n",
    "np.shape(y)\n",
    "#plt.hist(X) ##maybe??"
   ]
  },
  {
   "cell_type": "code",
   "execution_count": 6,
   "id": "c6856fef",
   "metadata": {},
   "outputs": [],
   "source": [
    "#separate with the prof's suggestion\n",
    "from sklearn.model_selection import train_test_split\n",
    "X_train, X_test, y_train, y_test=train_test_split(X,y, random_state=1)"
   ]
  },
  {
   "cell_type": "markdown",
   "id": "66e05afb",
   "metadata": {},
   "source": [
    "###  2. Apprentissage et évaluation de modèles "
   ]
  },
  {
   "cell_type": "code",
   "execution_count": 9,
   "id": "3415bda1",
   "metadata": {},
   "outputs": [
    {
     "data": {
      "text/plain": [
       "0.7193784277879341"
      ]
     },
     "execution_count": 9,
     "metadata": {},
     "output_type": "execute_result"
    }
   ],
   "source": [
    "#CART : classification and regression trees\n",
    "from sklearn.tree import DecisionTreeClassifier\n",
    "tree=DecisionTreeClassifier(random_state=1)\n",
    "digit_tree=tree.fit(X_train, y_train)\n",
    "# Estimation de l’erreur de prévision\n",
    "digit_tree.score(X_test,y_test)"
   ]
  },
  {
   "cell_type": "code",
   "execution_count": 33,
   "id": "5c6e4eed",
   "metadata": {},
   "outputs": [
    {
     "data": {
      "text/plain": [
       "0.7330895795246801"
      ]
     },
     "execution_count": 33,
     "metadata": {},
     "output_type": "execute_result"
    }
   ],
   "source": [
    "#k-plus-proches-voisins avec k=5\n",
    "from sklearn.neighbors import KNeighborsClassifier\n",
    "knn = KNeighborsClassifier(n_neighbors=5)\n",
    "digit_knn=knn.fit(X_train, y_train)\n",
    "# Estimation de l’erreur de prévision\n",
    "# sur l’échantillon test\n",
    "digit_knn.score(X_test,y_test)"
   ]
  },
  {
   "cell_type": "code",
   "execution_count": 7,
   "id": "95e2c65a",
   "metadata": {},
   "outputs": [
    {
     "data": {
      "text/plain": [
       "0.6526508226691042"
      ]
     },
     "execution_count": 7,
     "metadata": {},
     "output_type": "execute_result"
    }
   ],
   "source": [
    "#MultilayerPerceptron\n",
    "from sklearn.neural_network import MLPClassifier\n",
    "clf = MLPClassifier(hidden_layer_sizes=(40,20), random_state=1)\n",
    "digit_clf=clf.fit(X_train, y_train)\n",
    "digit_clf.score(X_test,y_test)"
   ]
  },
  {
   "cell_type": "markdown",
   "id": "c7728e7c",
   "metadata": {},
   "source": [
    "#### Each score represent the mean accuracy of model and according to the score, k-plus-proches-voisins model is the best estimation"
   ]
  },
  {
   "cell_type": "markdown",
   "id": "aa9e29c2",
   "metadata": {},
   "source": [
    "### 3. Normalisation des variables continues"
   ]
  },
  {
   "cell_type": "markdown",
   "id": "c6df877f",
   "metadata": {},
   "source": [
    "#### 1) With StandardScaler"
   ]
  },
  {
   "cell_type": "code",
   "execution_count": 26,
   "id": "402f9a67",
   "metadata": {},
   "outputs": [],
   "source": [
    "from sklearn.preprocessing import StandardScaler\n",
    "scaler = StandardScaler()\n",
    "norm_X=scaler.fit_transform(X)\n",
    "X_train_norm, X_test_norm, y_train, y_test=train_test_split(norm_X,y, random_state=1)\n"
   ]
  },
  {
   "cell_type": "markdown",
   "id": "8886733b",
   "metadata": {},
   "source": [
    "## !!!!!Recheck out about y"
   ]
  },
  {
   "cell_type": "code",
   "execution_count": 31,
   "id": "e9c5b3f9",
   "metadata": {},
   "outputs": [
    {
     "data": {
      "text/plain": [
       "0.7184643510054844"
      ]
     },
     "execution_count": 31,
     "metadata": {},
     "output_type": "execute_result"
    }
   ],
   "source": [
    "#CART : classification and regression trees\n",
    "digit_tree_norm=tree.fit(X_train_norm, y_train)\n",
    "# Estimation de l’erreur de prévision\n",
    "digit_tree_norm.score(X_test_norm,y_test)"
   ]
  },
  {
   "cell_type": "code",
   "execution_count": 34,
   "id": "89e88528",
   "metadata": {},
   "outputs": [
    {
     "data": {
      "text/plain": [
       "0.7723948811700183"
      ]
     },
     "execution_count": 34,
     "metadata": {},
     "output_type": "execute_result"
    }
   ],
   "source": [
    "#k-plus-proches-voisins avec k=5\n",
    "digit_knn_norm=knn.fit(X_train_norm, y_train)\n",
    "# Estimation de l’erreur de prévision\n",
    "# sur l’échantillon test\n",
    "digit_knn_norm.score(X_test_norm,y_test)"
   ]
  },
  {
   "cell_type": "code",
   "execution_count": 35,
   "id": "635d4bcc",
   "metadata": {},
   "outputs": [
    {
     "data": {
      "text/plain": [
       "0.7705667276051188"
      ]
     },
     "execution_count": 35,
     "metadata": {},
     "output_type": "execute_result"
    }
   ],
   "source": [
    "#MultilayerPerceptron\n",
    "digit_clf_norm=clf.fit(X_train_norm, y_train)\n",
    "digit_clf_norm.score(X_test_norm,y_test)"
   ]
  },
  {
   "cell_type": "markdown",
   "id": "f45095c8",
   "metadata": {},
   "source": [
    "### k-plus-proches-voisins model is always the best estimation after the standard of data, but this time MultilayerPerceptron model is better than CART (why??) "
   ]
  },
  {
   "cell_type": "markdown",
   "id": "7bae6349",
   "metadata": {},
   "source": [
    "#### 2) with MinMaxScaler"
   ]
  },
  {
   "cell_type": "code",
   "execution_count": 37,
   "id": "3a547661",
   "metadata": {},
   "outputs": [],
   "source": [
    "from sklearn.preprocessing import MinMaxScaler\n",
    "MinMaxscaler = MinMaxScaler()\n",
    "MinMax_X=MinMaxscaler.fit_transform(X)\n",
    "X_train_MM, X_test_MM, y_train, y_test=train_test_split(MinMax_X,y, random_state=1)"
   ]
  },
  {
   "cell_type": "code",
   "execution_count": 38,
   "id": "6acdb4b5",
   "metadata": {},
   "outputs": [
    {
     "data": {
      "text/plain": [
       "0.720292504570384"
      ]
     },
     "execution_count": 38,
     "metadata": {},
     "output_type": "execute_result"
    }
   ],
   "source": [
    "#CART : classification and regression trees\n",
    "digit_tree_MM=tree.fit(X_train_MM, y_train)\n",
    "digit_tree_MM.score(X_test_MM,y_test)"
   ]
  },
  {
   "cell_type": "code",
   "execution_count": 39,
   "id": "d5e631bf",
   "metadata": {},
   "outputs": [
    {
     "data": {
      "text/plain": [
       "0.7513711151736746"
      ]
     },
     "execution_count": 39,
     "metadata": {},
     "output_type": "execute_result"
    }
   ],
   "source": [
    "#k-plus-proches-voisins avec k=5\n",
    "digit_knn_MM=knn.fit(X_train_MM, y_train)\n",
    "digit_knn_MM.score(X_test_MM,y_test)"
   ]
  },
  {
   "cell_type": "code",
   "execution_count": 40,
   "id": "290a06c8",
   "metadata": {},
   "outputs": [
    {
     "data": {
      "text/plain": [
       "0.793418647166362"
      ]
     },
     "execution_count": 40,
     "metadata": {},
     "output_type": "execute_result"
    }
   ],
   "source": [
    "#MultilayerPerceptron\n",
    "digit_clf_MM=clf.fit(X_train_MM, y_train)\n",
    "digit_clf_MM.score(X_test_MM,y_test)"
   ]
  },
  {
   "cell_type": "markdown",
   "id": "3bf52def",
   "metadata": {},
   "source": [
    "### This time, MultilayerPerceptron has the best score for MinMaxScaler, (why?)"
   ]
  },
  {
   "cell_type": "markdown",
   "id": "bca4ce13",
   "metadata": {},
   "source": [
    "### 4. Création de nouvelles variables caractéristiques par combinaisons linéaires des variables initiales"
   ]
  },
  {
   "cell_type": "code",
   "execution_count": 47,
   "id": "70f2decf",
   "metadata": {},
   "outputs": [
    {
     "name": "stdout",
     "output_type": "stream",
     "text": [
      "[0.98226823 0.01254749 0.00443397]\n"
     ]
    }
   ],
   "source": [
    "#PCA without normalization\n",
    "from sklearn.decomposition import PCA\n",
    "# définition de la commande\n",
    "pca = PCA(n_components=3)\n",
    "# Estimation, calcul des composantes principales\n",
    "C = pca.fit(X)\n",
    "# Décroissance de la variance expliquée\n",
    "print(pca.explained_variance_ratio_)"
   ]
  },
  {
   "cell_type": "code",
   "execution_count": 49,
   "id": "c2bd6db2",
   "metadata": {},
   "outputs": [
    {
     "name": "stdout",
     "output_type": "stream",
     "text": [
      "[0.19205626 0.14557791 0.10542274]\n"
     ]
    }
   ],
   "source": [
    "# PCA with normalization\n",
    "pca = PCA(n_components=3)\n",
    "# Estimation, calcul des composantes principales\n",
    "C = pca.fit(norm_X)\n",
    "# Décroissance de la variance expliquée\n",
    "print(pca.explained_variance_ratio_)"
   ]
  },
  {
   "cell_type": "markdown",
   "id": "2c2aa408",
   "metadata": {},
   "source": [
    "### After the normalization, every dimention is more unanimous,blabla"
   ]
  },
  {
   "cell_type": "markdown",
   "id": "96fea8a9",
   "metadata": {},
   "source": [
    "### 5. Sélection de variables"
   ]
  },
  {
   "cell_type": "code",
   "execution_count": 50,
   "id": "88498f7b",
   "metadata": {},
   "outputs": [
    {
     "ename": "NameError",
     "evalue": "name 'Xtrain_scale' is not defined",
     "output_type": "error",
     "traceback": [
      "\u001b[0;31m---------------------------------------------------------------------------\u001b[0m",
      "\u001b[0;31mNameError\u001b[0m                                 Traceback (most recent call last)",
      "\u001b[0;32m/var/folders/8x/y_2kt4990d1bc_fsh6hmyw800000gn/T/ipykernel_66779/2489551627.py\u001b[0m in \u001b[0;36m<module>\u001b[0;34m\u001b[0m\n\u001b[1;32m      1\u001b[0m \u001b[0;32mfrom\u001b[0m \u001b[0msklearn\u001b[0m\u001b[0;34m.\u001b[0m\u001b[0mensemble\u001b[0m \u001b[0;32mimport\u001b[0m \u001b[0mRandomForestClassifier\u001b[0m\u001b[0;34m\u001b[0m\u001b[0;34m\u001b[0m\u001b[0m\n\u001b[1;32m      2\u001b[0m \u001b[0mclf\u001b[0m \u001b[0;34m=\u001b[0m \u001b[0mRandomForestClassifier\u001b[0m\u001b[0;34m(\u001b[0m\u001b[0mn_estimators\u001b[0m\u001b[0;34m=\u001b[0m\u001b[0;36m100\u001b[0m\u001b[0;34m)\u001b[0m\u001b[0;34m\u001b[0m\u001b[0;34m\u001b[0m\u001b[0m\n\u001b[0;32m----> 3\u001b[0;31m \u001b[0mclf\u001b[0m\u001b[0;34m.\u001b[0m\u001b[0mfit\u001b[0m\u001b[0;34m(\u001b[0m\u001b[0mXtrain_scale\u001b[0m\u001b[0;34m,\u001b[0m \u001b[0mY1\u001b[0m\u001b[0;34m)\u001b[0m\u001b[0;34m\u001b[0m\u001b[0;34m\u001b[0m\u001b[0m\n\u001b[0m\u001b[1;32m      4\u001b[0m \u001b[0mimportances\u001b[0m\u001b[0;34m=\u001b[0m\u001b[0mclf\u001b[0m\u001b[0;34m.\u001b[0m\u001b[0mfeature_importances_\u001b[0m\u001b[0;34m\u001b[0m\u001b[0;34m\u001b[0m\u001b[0m\n\u001b[1;32m      5\u001b[0m \u001b[0mstd\u001b[0m \u001b[0;34m=\u001b[0m \u001b[0mnp\u001b[0m\u001b[0;34m.\u001b[0m\u001b[0mstd\u001b[0m\u001b[0;34m(\u001b[0m\u001b[0;34m[\u001b[0m\u001b[0mtree\u001b[0m\u001b[0;34m.\u001b[0m\u001b[0mfeature_importances_\u001b[0m \u001b[0;32mfor\u001b[0m \u001b[0mtree\u001b[0m \u001b[0;32min\u001b[0m \u001b[0mclf\u001b[0m\u001b[0;34m.\u001b[0m\u001b[0mestimators_\u001b[0m\u001b[0;34m]\u001b[0m\u001b[0;34m,\u001b[0m\u001b[0maxis\u001b[0m\u001b[0;34m=\u001b[0m\u001b[0;36m0\u001b[0m\u001b[0;34m)\u001b[0m\u001b[0;34m\u001b[0m\u001b[0;34m\u001b[0m\u001b[0m\n",
      "\u001b[0;31mNameError\u001b[0m: name 'Xtrain_scale' is not defined"
     ]
    }
   ],
   "source": [
    "from sklearn.ensemble import RandomForestClassifier \n",
    "clf = RandomForestClassifier(n_estimators=100) \n",
    "clf.fit(Xtrain_scale, Y1) \n",
    "importances=clf.feature_importances_\n",
    "std = np.std([tree.feature_importances_ for tree in clf.estimators_],axis=0) \n",
    "sorted_idx = np.argsort(importances)[::-1]\n",
    "features =nom_cols \n",
    "print(features[sorted_idx])\n",
    "padding = np.arange(Xtrain_scale.size/len(Xtrain_scale)) + 0.5 \n",
    "plt.barh(padding, importances[sorted_idx],xerr=std[sorted_idx], align='center') \n",
    "plt.yticks(padding, features[sorted_idx])\n",
    "plt.xlabel(\"Relative Importance\")\n",
    "plt.title(\"Variable Importance\")\n",
    "plt.show()"
   ]
  },
  {
   "cell_type": "code",
   "execution_count": null,
   "id": "ea4ac41a",
   "metadata": {},
   "outputs": [],
   "source": []
  }
 ],
 "metadata": {
  "kernelspec": {
   "display_name": "Python 3 (ipykernel)",
   "language": "python",
   "name": "python3"
  },
  "language_info": {
   "codemirror_mode": {
    "name": "ipython",
    "version": 3
   },
   "file_extension": ".py",
   "mimetype": "text/x-python",
   "name": "python",
   "nbconvert_exporter": "python",
   "pygments_lexer": "ipython3",
   "version": "3.8.2"
  }
 },
 "nbformat": 4,
 "nbformat_minor": 5
}
