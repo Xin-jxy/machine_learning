{
 "cells": [
  {
   "cell_type": "markdown",
   "id": "60b3c2d6",
   "metadata": {},
   "source": [
    "# Marie Tabourin 02005176\n",
    "# Xinyue Jiang 11913955"
   ]
  },
  {
   "cell_type": "code",
   "execution_count": 2,
   "id": "8ddece7d",
   "metadata": {},
   "outputs": [],
   "source": [
    "import numpy as np \n",
    "np.set_printoptions(threshold=10000,suppress=True) \n",
    "import pandas as pd\n",
    "import warnings\n",
    "import matplotlib.pyplot as plt \n",
    "warnings.filterwarnings('ignore')"
   ]
  },
  {
   "cell_type": "markdown",
   "id": "d8b3f71e",
   "metadata": {},
   "source": [
    "# I. Apprentissage supervisé: Feature engineering et Classification"
   ]
  },
  {
   "cell_type": "markdown",
   "id": "fc36397f",
   "metadata": {},
   "source": [
    "## 1. Chargement des données et préparation"
   ]
  },
  {
   "cell_type": "code",
   "execution_count": 4,
   "id": "f7be6863",
   "metadata": {},
   "outputs": [
    {
     "data": {
      "text/html": [
       "<div>\n",
       "<style scoped>\n",
       "    .dataframe tbody tr th:only-of-type {\n",
       "        vertical-align: middle;\n",
       "    }\n",
       "\n",
       "    .dataframe tbody tr th {\n",
       "        vertical-align: top;\n",
       "    }\n",
       "\n",
       "    .dataframe thead th {\n",
       "        text-align: right;\n",
       "    }\n",
       "</style>\n",
       "<table border=\"1\" class=\"dataframe\">\n",
       "  <thead>\n",
       "    <tr style=\"text-align: right;\">\n",
       "      <th></th>\n",
       "      <th>Seniority</th>\n",
       "      <th>Home</th>\n",
       "      <th>Time</th>\n",
       "      <th>Age</th>\n",
       "      <th>Marital</th>\n",
       "      <th>Records</th>\n",
       "      <th>Job</th>\n",
       "      <th>Expenses</th>\n",
       "      <th>Income</th>\n",
       "      <th>Assets</th>\n",
       "      <th>Debt</th>\n",
       "      <th>Amount</th>\n",
       "      <th>Price</th>\n",
       "      <th>Status</th>\n",
       "    </tr>\n",
       "  </thead>\n",
       "  <tbody>\n",
       "    <tr>\n",
       "      <th>0</th>\n",
       "      <td>9.0</td>\n",
       "      <td>1.0</td>\n",
       "      <td>60.0</td>\n",
       "      <td>30.0</td>\n",
       "      <td>0.0</td>\n",
       "      <td>1.0</td>\n",
       "      <td>1.0</td>\n",
       "      <td>73.0</td>\n",
       "      <td>129.0</td>\n",
       "      <td>0.0</td>\n",
       "      <td>0.0</td>\n",
       "      <td>800.0</td>\n",
       "      <td>846.0</td>\n",
       "      <td>1</td>\n",
       "    </tr>\n",
       "    <tr>\n",
       "      <th>1</th>\n",
       "      <td>17.0</td>\n",
       "      <td>1.0</td>\n",
       "      <td>60.0</td>\n",
       "      <td>58.0</td>\n",
       "      <td>1.0</td>\n",
       "      <td>1.0</td>\n",
       "      <td>0.0</td>\n",
       "      <td>48.0</td>\n",
       "      <td>131.0</td>\n",
       "      <td>0.0</td>\n",
       "      <td>0.0</td>\n",
       "      <td>1000.0</td>\n",
       "      <td>1658.0</td>\n",
       "      <td>1</td>\n",
       "    </tr>\n",
       "    <tr>\n",
       "      <th>2</th>\n",
       "      <td>10.0</td>\n",
       "      <td>0.0</td>\n",
       "      <td>36.0</td>\n",
       "      <td>46.0</td>\n",
       "      <td>0.0</td>\n",
       "      <td>2.0</td>\n",
       "      <td>1.0</td>\n",
       "      <td>90.0</td>\n",
       "      <td>200.0</td>\n",
       "      <td>3000.0</td>\n",
       "      <td>0.0</td>\n",
       "      <td>2000.0</td>\n",
       "      <td>2985.0</td>\n",
       "      <td>0</td>\n",
       "    </tr>\n",
       "    <tr>\n",
       "      <th>3</th>\n",
       "      <td>0.0</td>\n",
       "      <td>1.0</td>\n",
       "      <td>60.0</td>\n",
       "      <td>24.0</td>\n",
       "      <td>1.0</td>\n",
       "      <td>1.0</td>\n",
       "      <td>0.0</td>\n",
       "      <td>63.0</td>\n",
       "      <td>182.0</td>\n",
       "      <td>2500.0</td>\n",
       "      <td>0.0</td>\n",
       "      <td>900.0</td>\n",
       "      <td>1325.0</td>\n",
       "      <td>1</td>\n",
       "    </tr>\n",
       "    <tr>\n",
       "      <th>4</th>\n",
       "      <td>0.0</td>\n",
       "      <td>1.0</td>\n",
       "      <td>36.0</td>\n",
       "      <td>26.0</td>\n",
       "      <td>1.0</td>\n",
       "      <td>1.0</td>\n",
       "      <td>0.0</td>\n",
       "      <td>46.0</td>\n",
       "      <td>107.0</td>\n",
       "      <td>0.0</td>\n",
       "      <td>0.0</td>\n",
       "      <td>310.0</td>\n",
       "      <td>910.0</td>\n",
       "      <td>1</td>\n",
       "    </tr>\n",
       "  </tbody>\n",
       "</table>\n",
       "</div>"
      ],
      "text/plain": [
       "   Seniority  Home  Time   Age  Marital  Records  Job  Expenses  Income  \\\n",
       "0        9.0   1.0  60.0  30.0      0.0      1.0  1.0      73.0   129.0   \n",
       "1       17.0   1.0  60.0  58.0      1.0      1.0  0.0      48.0   131.0   \n",
       "2       10.0   0.0  36.0  46.0      0.0      2.0  1.0      90.0   200.0   \n",
       "3        0.0   1.0  60.0  24.0      1.0      1.0  0.0      63.0   182.0   \n",
       "4        0.0   1.0  36.0  26.0      1.0      1.0  0.0      46.0   107.0   \n",
       "\n",
       "   Assets  Debt  Amount   Price  Status  \n",
       "0     0.0   0.0   800.0   846.0       1  \n",
       "1     0.0   0.0  1000.0  1658.0       1  \n",
       "2  3000.0   0.0  2000.0  2985.0       0  \n",
       "3  2500.0   0.0   900.0  1325.0       1  \n",
       "4     0.0   0.0   310.0   910.0       1  "
      ]
     },
     "execution_count": 4,
     "metadata": {},
     "output_type": "execute_result"
    }
   ],
   "source": [
    "data = pd.read_csv('./credit_scoring.csv', sep=';')\n",
    "data.head()"
   ]
  },
  {
   "cell_type": "code",
   "execution_count": 5,
   "id": "a652168a",
   "metadata": {},
   "outputs": [],
   "source": [
    "nom_cols = data.columns\n",
    "df=pd.DataFrame(data)\n",
    "#separate status from whole dataframe\n",
    "y=np.array(df[\"Status\"]).reshape(-1,1)\n",
    "#drop off the column status and transfert it to array for analysis\n",
    "df_sep=df.drop(columns=[\"Status\"])\n",
    "X=np.array(df_sep)"
   ]
  },
  {
   "cell_type": "code",
   "execution_count": 4,
   "id": "88d3e1fd",
   "metadata": {},
   "outputs": [
    {
     "name": "stdout",
     "output_type": "stream",
     "text": [
      "(4375, 1)\n"
     ]
    },
    {
     "data": {
      "text/plain": [
       "(array([1216.,    0.,    0.,    0.,    0.,    0.,    0.,    0.,    0.,\n",
       "        3159.]),\n",
       " array([0. , 0.1, 0.2, 0.3, 0.4, 0.5, 0.6, 0.7, 0.8, 0.9, 1. ]),\n",
       " <BarContainer object of 10 artists>)"
      ]
     },
     "execution_count": 4,
     "metadata": {},
     "output_type": "execute_result"
    },
    {
     "data": {
      "image/png": "[encoded data removed]",
      "text/plain": [
       "<Figure size 432x288 with 1 Axes>"
      ]
     },
     "metadata": {
      "needs_background": "light"
     },
     "output_type": "display_data"
    }
   ],
   "source": [
    "#discover our array data\n",
    "print(np.shape(y))\n",
    "#nombre d'exemples positifs et négatifs\n",
    "plt.hist(y)\n",
    "# Il y a environ 1250 négatifs (0) et 3250 positifs (1)"
   ]
  },
  {
   "cell_type": "code",
   "execution_count": 5,
   "id": "808ffe00",
   "metadata": {},
   "outputs": [],
   "source": [
    "#separate with the prof's suggestion\n",
    "from sklearn.model_selection import train_test_split\n",
    "X_train, X_test, y_train, y_test=train_test_split(X,y, random_state=1)"
   ]
  },
  {
   "cell_type": "markdown",
   "id": "8c102889",
   "metadata": {},
   "source": [
    "##  2. Apprentissage et évaluation de modèles "
   ]
  },
  {
   "cell_type": "code",
   "execution_count": 6,
   "id": "e25a88ef",
   "metadata": {},
   "outputs": [
    {
     "name": "stdout",
     "output_type": "stream",
     "text": [
      "accuracy score: 0.7193784277879341\n",
      "précision: 0.8193548387096774\n"
     ]
    }
   ],
   "source": [
    "#CART : classification and regression trees\n",
    "from sklearn.tree import DecisionTreeClassifier\n",
    "from sklearn.metrics import accuracy_score, precision_score\n",
    "tree=DecisionTreeClassifier(random_state=1)\n",
    "digit_tree=tree.fit(X_train, y_train)\n",
    "y_pred = digit_tree.predict(X_test)\n",
    "# Estimation de l'accuracy\n",
    "print(\"accuracy score:\",accuracy_score(y_test, y_pred))\n",
    "# Estimation de la precision\n",
    "print(\"précision:\", precision_score(y_test, y_pred))"
   ]
  },
  {
   "cell_type": "code",
   "execution_count": 7,
   "id": "41b06d13",
   "metadata": {},
   "outputs": [
    {
     "name": "stdout",
     "output_type": "stream",
     "text": [
      "accuracy score: 0.7330895795246801\n",
      "précision: 0.7783842794759825\n"
     ]
    }
   ],
   "source": [
    "#k-plus-proches-voisins avec k=5\n",
    "from sklearn.neighbors import KNeighborsClassifier\n",
    "knn = KNeighborsClassifier(n_neighbors=5)\n",
    "digit_knn=knn.fit(X_train, y_train)\n",
    "y_pred_knn = digit_knn.predict(X_test)\n",
    "# Estimation de l'accuracy\n",
    "print(\"accuracy score:\",accuracy_score(y_test, y_pred_knn))\n",
    "# Estimation de la precision\n",
    "print(\"précision:\", precision_score(y_test, y_pred_knn))"
   ]
  },
  {
   "cell_type": "code",
   "execution_count": 8,
   "id": "10775b80",
   "metadata": {},
   "outputs": [
    {
     "name": "stdout",
     "output_type": "stream",
     "text": [
      "accuracy score: 0.45978062157221206\n",
      "précision: 0.8808664259927798\n"
     ]
    }
   ],
   "source": [
    "#MultilayerPerceptron\n",
    "from sklearn.neural_network import MLPClassifier\n",
    "clf = MLPClassifier(hidden_layer_sizes=(40,20), random_state=1)\n",
    "digit_clf=clf.fit(X_train, y_train)\n",
    "y_pred_clf = digit_clf.predict(X_test)\n",
    "# Estimation de l'accuracy\n",
    "print(\"accuracy score:\",accuracy_score(y_test, y_pred_clf))\n",
    "# Estimation de la precision\n",
    "print(\"précision:\", precision_score(y_test, y_pred_clf))"
   ]
  },
  {
   "cell_type": "markdown",
   "id": "e3388c81",
   "metadata": {},
   "source": [
    "#### Pour la comparaison, nous avons calculer l'accuracy et la Précision. Nous avons choisi la précision car dans ce cas il est plus interessant d'avoir tous les positifs pour avoir toutes les personnes qui doivent rembourser leur crédit. La meilleure estimation semble être avec la méthode k-plus-proches-voisins car l'accuracy est la plus élevée et la précision est aussi assez élevée.  "
   ]
  },
  {
   "cell_type": "markdown",
   "id": "6dcabd65",
   "metadata": {},
   "source": [
    "## 3. Normalisation des variables continues"
   ]
  },
  {
   "cell_type": "markdown",
   "id": "c516b9c6",
   "metadata": {},
   "source": [
    "#### 1) With StandardScaler"
   ]
  },
  {
   "cell_type": "code",
   "execution_count": 9,
   "id": "c649596a",
   "metadata": {},
   "outputs": [],
   "source": [
    "from sklearn.preprocessing import StandardScaler\n",
    "scaler = StandardScaler()\n",
    "scaler.fit(X_train)\n",
    "X_train_norm = scaler.transform(X_train)\n",
    "X_test_norm = scaler.transform(X_test)"
   ]
  },
  {
   "cell_type": "code",
   "execution_count": 10,
   "id": "de51b1d0",
   "metadata": {},
   "outputs": [
    {
     "name": "stdout",
     "output_type": "stream",
     "text": [
      "accuracy score: 0.720292504570384\n",
      "précision: 0.8212435233160622\n"
     ]
    }
   ],
   "source": [
    "#CART : classification and regression trees\n",
    "digit_tree_norm=tree.fit(X_train_norm, y_train)\n",
    "y_pred_norm = digit_tree_norm.predict(X_test_norm)\n",
    "# Estimation de l'accuracy\n",
    "print(\"accuracy score:\",accuracy_score(y_test, y_pred_norm))\n",
    "# Estimation de la precision\n",
    "print(\"précision:\", precision_score(y_test, y_pred_norm))"
   ]
  },
  {
   "cell_type": "code",
   "execution_count": 11,
   "id": "ccf94f3c",
   "metadata": {},
   "outputs": [
    {
     "name": "stdout",
     "output_type": "stream",
     "text": [
      "accuracy score: 0.7742230347349177\n",
      "précision: 0.8230500582072177\n"
     ]
    }
   ],
   "source": [
    "#k-plus-proches-voisins avec k=5\n",
    "digit_knn_norm=knn.fit(X_train_norm, y_train)\n",
    "y_pred_knn_norm = digit_knn_norm.predict(X_test_norm)\n",
    "# Estimation de l'accuracy\n",
    "print(\"accuracy score:\",accuracy_score(y_test, y_pred_knn_norm))\n",
    "# Estimation de la precision\n",
    "print(\"précision:\", precision_score(y_test, y_pred_knn_norm))"
   ]
  },
  {
   "cell_type": "code",
   "execution_count": 12,
   "id": "d7177987",
   "metadata": {},
   "outputs": [
    {
     "name": "stdout",
     "output_type": "stream",
     "text": [
      "accuracy score: 0.7751371115173674\n",
      "précision: 0.8357487922705314\n"
     ]
    }
   ],
   "source": [
    "#MultilayerPerceptron\n",
    "digit_clf_norm=clf.fit(X_train_norm, y_train)\n",
    "y_pred_clf_norm = digit_clf_norm.predict(X_test_norm)\n",
    "# Estimation de l'accuracy\n",
    "print(\"accuracy score:\",accuracy_score(y_test, y_pred_clf_norm))\n",
    "# Estimation de la precision\n",
    "print(\"précision:\", precision_score(y_test, y_pred_clf_norm))"
   ]
  },
  {
   "cell_type": "markdown",
   "id": "c4708901",
   "metadata": {},
   "source": [
    "####  La normalisation permet d'augmenter les scores d'accuracy et de précision pour MultilayerPerceptron et K-plus proches voisins mais pas pour CART. MultilayerPerceptron est ici la meilleurs estimations après la normalisation des données "
   ]
  },
  {
   "cell_type": "markdown",
   "id": "9b6025d6",
   "metadata": {},
   "source": [
    "#### 2) with MinMaxScaler"
   ]
  },
  {
   "cell_type": "code",
   "execution_count": 13,
   "id": "8086933c",
   "metadata": {},
   "outputs": [],
   "source": [
    "from sklearn.preprocessing import MinMaxScaler\n",
    "MinMaxscaler = MinMaxScaler()\n",
    "MinMaxscaler.fit(X_train)\n",
    "X_train_MM = MinMaxscaler.transform(X_train)\n",
    "X_test_MM = MinMaxscaler.transform(X_test)"
   ]
  },
  {
   "cell_type": "code",
   "execution_count": 14,
   "id": "ef33b411",
   "metadata": {},
   "outputs": [
    {
     "name": "stdout",
     "output_type": "stream",
     "text": [
      "accuracy score: 0.720292504570384\n",
      "précision: 0.8187660668380463\n"
     ]
    }
   ],
   "source": [
    "#CART : classification and regression trees\n",
    "digit_tree_MM=tree.fit(X_train_MM, y_train)\n",
    "y_pred_MM = digit_tree_MM.predict(X_test_MM)\n",
    "# Estimation de l'accuracy\n",
    "print(\"accuracy score:\",accuracy_score(y_test, y_pred_MM))\n",
    "# Estimation de la precision\n",
    "print(\"précision:\", precision_score(y_test, y_pred_MM))"
   ]
  },
  {
   "cell_type": "code",
   "execution_count": 15,
   "id": "b3aa59fb",
   "metadata": {},
   "outputs": [
    {
     "name": "stdout",
     "output_type": "stream",
     "text": [
      "accuracy score: 0.746800731261426\n",
      "précision: 0.8158844765342961\n"
     ]
    }
   ],
   "source": [
    "#k-plus-proches-voisins avec k=5\n",
    "digit_knn_MM=knn.fit(X_train_MM, y_train)\n",
    "y_pred_knn_MM = digit_knn_MM.predict(X_test_MM)\n",
    "# Estimation de l'accuracy\n",
    "print(\"accuracy score:\",accuracy_score(y_test, y_pred_knn_MM))\n",
    "# Estimation de la precision\n",
    "print(\"précision:\", precision_score(y_test, y_pred_knn_MM))"
   ]
  },
  {
   "cell_type": "code",
   "execution_count": 16,
   "id": "63e24930",
   "metadata": {},
   "outputs": [
    {
     "name": "stdout",
     "output_type": "stream",
     "text": [
      "accuracy score: 0.7851919561243145\n",
      "précision: 0.8262370540851554\n"
     ]
    }
   ],
   "source": [
    "#MultilayerPerceptron\n",
    "digit_clf_MM=clf.fit(X_train_MM, y_train)\n",
    "y_pred_clf_MM = digit_clf_MM.predict(X_test_MM)\n",
    "# Estimation de l'accuracy\n",
    "print(\"accuracy score:\",accuracy_score(y_test, y_pred_clf_MM))\n",
    "# Estimation de la precision\n",
    "print(\"précision:\", precision_score(y_test, y_pred_clf_MM))"
   ]
  },
  {
   "cell_type": "markdown",
   "id": "14da69c7",
   "metadata": {},
   "source": [
    "#### Avec MinMaxScaler, c'est toujours MultilayerPerceptron qui a la meilleure estimation."
   ]
  },
  {
   "cell_type": "markdown",
   "id": "2a4a1ce1",
   "metadata": {},
   "source": [
    "### 4. Création de nouvelles variables caractéristiques par combinaisons linéaires des variables initiales"
   ]
  },
  {
   "cell_type": "code",
   "execution_count": 17,
   "id": "242e9682",
   "metadata": {},
   "outputs": [
    {
     "name": "stdout",
     "output_type": "stream",
     "text": [
      "[0.19114316 0.14583152 0.10609432]\n"
     ]
    }
   ],
   "source": [
    "#PCA without normalization\n",
    "from sklearn.decomposition import PCA\n",
    "# définition de la commande\n",
    "pca = PCA(n_components=3)\n",
    "pca.fit(X_train_norm)\n",
    "# Estimation, calcul des composantes principales\n",
    "C = pca.transform(X_train_norm)\n",
    "D = pca.transform(X_test_norm)\n",
    "# Décroissance de la variance expliquée\n",
    "print(pca.explained_variance_ratio_)\n",
    "# Peu d'information est gardée avec les 3 premières dimenssions (44%)\n",
    "\n",
    "# Concaténation des 3 dimensions avec les données normaisées\n",
    "X_comb_train = np.concatenate((X_train_norm, C), axis=1)\n",
    "X_comb_test = np.concatenate((X_test_norm, D), axis=1)"
   ]
  },
  {
   "cell_type": "code",
   "execution_count": 18,
   "id": "11d04fe8",
   "metadata": {},
   "outputs": [
    {
     "name": "stdout",
     "output_type": "stream",
     "text": [
      "accuracy score: 0.7294332723948812\n",
      "précision: 0.8251928020565553\n"
     ]
    }
   ],
   "source": [
    "#CART : classification and regression trees\n",
    "digit_tree_combined=tree.fit(X_comb_train, y_train)\n",
    "y_pred_tree_combined = digit_tree_combined.predict(X_comb_test)\n",
    "# Estimation de l'accuracy\n",
    "print(\"accuracy score:\",accuracy_score(y_test, y_pred_tree_combined))\n",
    "# Estimation de la precision\n",
    "print(\"précision:\", precision_score(y_test, y_pred_tree_combined))"
   ]
  },
  {
   "cell_type": "code",
   "execution_count": 19,
   "id": "bda05d33",
   "metadata": {},
   "outputs": [
    {
     "name": "stdout",
     "output_type": "stream",
     "text": [
      "accuracy score: 0.7669104204753199\n",
      "précision: 0.8132875143184422\n"
     ]
    }
   ],
   "source": [
    "#k-plus-proches-voisins avec k=5\n",
    "digit_knn_combined=knn.fit(X_comb_train, y_train)\n",
    "y_pred_knn_combined = digit_knn_combined.predict(X_comb_test)\n",
    "# Estimation de l'accuracy\n",
    "print(\"accuracy score:\",accuracy_score(y_test, y_pred_knn_combined))\n",
    "# Estimation de la precision\n",
    "print(\"précision:\", precision_score(y_test, y_pred_knn_combined))"
   ]
  },
  {
   "cell_type": "code",
   "execution_count": 20,
   "id": "4c2857cc",
   "metadata": {},
   "outputs": [
    {
     "name": "stdout",
     "output_type": "stream",
     "text": [
      "accuracy score: 0.7879341864716636\n",
      "précision: 0.8544776119402985\n"
     ]
    }
   ],
   "source": [
    "#MultilayerPerceptron\n",
    "digit_clf_combined=clf.fit(X_comb_train, y_train)\n",
    "y_pred_clf_combined = digit_clf_combined.predict(X_comb_test)\n",
    "# Estimation de l'accuracy\n",
    "print(\"accuracy score:\",accuracy_score(y_test, y_pred_clf_combined))\n",
    "# Estimation de la precision\n",
    "print(\"précision:\", precision_score(y_test, y_pred_clf_combined))"
   ]
  },
  {
   "cell_type": "markdown",
   "id": "ab5cf8f7",
   "metadata": {},
   "source": [
    "#### On observe une légère augmentation de l'accuracy et une augmentation de la précision avec l'ACP. Multilayer Perceptron ets toujours la méthode qui a la meilleure estimation."
   ]
  },
  {
   "cell_type": "markdown",
   "id": "691c68be",
   "metadata": {},
   "source": [
    "#### Après toutes les analyses, on observe que la meilleure méthode est avec des données normalisées avec une ACP et la méthode MultilayerPerceptron. Nous allons ici utiliser la deuxième meilleur méthodes avec une normalisation avec StandardScaler et la méthode MultilayerPerceptron."
   ]
  },
  {
   "cell_type": "markdown",
   "id": "d8ab2032",
   "metadata": {},
   "source": [
    "### 5. Sélection de variables"
   ]
  },
  {
   "cell_type": "code",
   "execution_count": 21,
   "id": "60b6b3c9",
   "metadata": {},
   "outputs": [
    {
     "name": "stdout",
     "output_type": "stream",
     "text": [
      "Index(['Income', 'Seniority', 'Price', 'Amount', 'Age', 'Assets', 'Expenses',\n",
      "       'Records', 'Time', 'Job', 'Debt', 'Home', 'Marital'],\n",
      "      dtype='object')\n"
     ]
    },
    {
     "data": {
      "image/png": "[encoded data removed]",
      "text/plain": [
       "<Figure size 432x288 with 1 Axes>"
      ]
     },
     "metadata": {
      "needs_background": "light"
     },
     "output_type": "display_data"
    }
   ],
   "source": [
    "from sklearn.ensemble import RandomForestClassifier \n",
    "clf = RandomForestClassifier(n_estimators=100) \n",
    "clf.fit(X_train_norm, y_train) \n",
    "importances=clf.feature_importances_\n",
    "std = np.std([tree.feature_importances_ for tree in clf.estimators_],axis=0) \n",
    "sorted_idx = np.argsort(importances)[::-1]\n",
    "features = nom_cols \n",
    "print(features[sorted_idx])\n",
    "padding = np.arange(X_train_norm.size/len(X_train_norm)) + 0.5 \n",
    "plt.barh(padding, importances[sorted_idx],xerr=std[sorted_idx], align='center') \n",
    "plt.yticks(padding, features[sorted_idx])\n",
    "plt.xlabel(\"Relative Importance\")\n",
    "plt.title(\"Variable Importance\")\n",
    "plt.show()"
   ]
  },
  {
   "cell_type": "code",
   "execution_count": 59,
   "id": "4efad9dd",
   "metadata": {},
   "outputs": [
    {
     "data": {
      "image/png": "[encoded data removed]",
      "text/plain": [
       "<Figure size 432x288 with 1 Axes>"
      ]
     },
     "metadata": {
      "needs_background": "light"
     },
     "output_type": "display_data"
    }
   ],
   "source": [
    "MLP = MLPClassifier(hidden_layer_sizes=(40,20), random_state=1)\n",
    "scores=np.zeros(X_train_norm.shape[1]+1)\n",
    "for f in np.arange(0, X_train_norm.shape[1]+1):\n",
    "    X1_f = X_train_norm[:,sorted_idx[:f+1]]\n",
    "    X2_f = X_test_norm[:,sorted_idx[:f+1]]\n",
    "    MLP.fit(X1_f,y_train)\n",
    "    YMLP=MLP.predict(X2_f)\n",
    "    scores[f]=np.round(accuracy_score(y_test,YMLP),3)\n",
    "plt.plot(scores)\n",
    "plt.xlabel(\"Nombre de Variables\")\n",
    "plt.ylabel(\"Accuracy\")\n",
    "plt.title(\"Evolution de l'accuracy en fonction des variables\")\n",
    "plt.show()"
   ]
  },
  {
   "cell_type": "markdown",
   "id": "baa26c57",
   "metadata": {},
   "source": [
    "#### On observe que l'accuracy est la plus élevée avec 8 variables, il faut donc garder les 8 variables avec le plus d'importances."
   ]
  },
  {
   "cell_type": "markdown",
   "id": "724aeacc",
   "metadata": {},
   "source": [
    "### 6. Paramètrage des classifieurs"
   ]
  },
  {
   "cell_type": "code",
   "execution_count": null,
   "id": "b55d4759",
   "metadata": {},
   "outputs": [],
   "source": [
    "from sklearn.model_selection import GridSearchCV\n",
    "mlp = MLPClassifier(hidden_layer_sizes=(40,20), random_state=1)\n",
    "\n",
    "parameters = {\n",
    "    'activation': ['tanh', 'relu', 'identity', 'logistic'],\n",
    "    'solver': ['sgd', 'adam', 'lbfgs'],\n",
    "    'alpha': [0.0001, 0.05],\n",
    "    'learning_rate': ['constant','adaptive', 'invscaling'],\n",
    "}\n",
    "\n",
    "clf = GridSearchCV(mlp, parameters)\n",
    "clf.fit(X_train_norm, y_train)\n",
    "\n",
    "# Best paramete set\n",
    "print('Best parameters found:\\n', clf.best_params_)"
   ]
  },
  {
   "cell_type": "markdown",
   "id": "c976d8a4",
   "metadata": {},
   "source": [
    "#### Les meilleurs paramètres pour MLP dans ceux que nous avons testé (nous n'avons pas tout tester car cela prend beaucoup de temps à s'exécuter) sont: logistic pour l'activation, 0,0001 pour alpha, constant pour learning_rate et adam pour solver."
   ]
  },
  {
   "cell_type": "markdown",
   "id": "c0627323",
   "metadata": {},
   "source": [
    "### 7. Création d'un pipeline"
   ]
  },
  {
   "cell_type": "code",
   "execution_count": 22,
   "id": "6ae86109",
   "metadata": {},
   "outputs": [
    {
     "name": "stdout",
     "output_type": "stream",
     "text": [
      "{MinMaxScaler(): [{RandomForestClassifier(): ' accuracy score  0.7431444241316271,  precision score 0.8025551684088269'}, {MLPClassifier(hidden_layer_sizes=(40, 20), random_state=1): ' accuracy score  0.7595978062157221,  precision score 0.8024691358024691'}, {KNeighborsClassifier(): ' accuracy score  0.7349177330895795,  precision score 0.8054892601431981'}, {DecisionTreeClassifier(random_state=1): ' accuracy score  0.696526508226691,  precision score 0.8044041450777202'}], StandardScaler(): [{RandomForestClassifier(): ' accuracy score  0.7111517367458866,  precision score 0.7652838427947598'}, {MLPClassifier(hidden_layer_sizes=(40, 20), random_state=1): ' accuracy score  0.7349177330895795,  precision score 0.7585858585858586'}, {KNeighborsClassifier(): ' accuracy score  0.70018281535649,  precision score 0.7651006711409396'}, {DecisionTreeClassifier(random_state=1): ' accuracy score  0.6352833638025595,  precision score 0.7521902377972466'}]}\n"
     ]
    }
   ],
   "source": [
    "from sklearn.pipeline import Pipeline\n",
    "from sklearn.pipeline import FeatureUnion\n",
    "from sklearn.neighbors import KNeighborsClassifier\n",
    "import pickle \n",
    "sc=[MinMaxScaler(),StandardScaler()]\n",
    "clf=[RandomForestClassifier(n_estimators=100),MLPClassifier(hidden_layer_sizes=(40,20), random_state=1),KNeighborsClassifier(n_neighbors=5),DecisionTreeClassifier(random_state=1)]\n",
    "dic_={}\n",
    "f=open('scores.pkl','wb')\n",
    "for norm in sc:\n",
    "    list_r=[]\n",
    "    for cla in clf:\n",
    "        dic_ind={}\n",
    "        pip=Pipeline([('scaler',norm),('pca', PCA(n_components=3)),(\"classifier\",cla)])\n",
    "        res_pip=pip.fit(X_train, y_train)\n",
    "        y_pred_= res_pip.predict(X_test)\n",
    "        ac_sc=accuracy_score(y_test, y_pred_)\n",
    "        pr_sc=precision_score(y_test, y_pred_)\n",
    "        score=f\" accuracy score  {ac_sc},  precision score {pr_sc}\"\n",
    "        a=f'the normalization {norm} and classifier {cla} '\n",
    "        dic_ind[cla]=score\n",
    "        list_r.append(dic_ind)\n",
    "    dic_[norm]=list_r\n",
    "pickle.dump(dic_,f)\n",
    "#load les donnees\n",
    "df=pickle.load(open('scores.pkl','rb'))\n",
    "print(df)"
   ]
  },
  {
   "cell_type": "markdown",
   "id": "822dba4d",
   "metadata": {},
   "source": [
    "### 8. Comparaison de plusieurs algorithmes d'apprentissage"
   ]
  },
  {
   "cell_type": "code",
   "execution_count": 23,
   "id": "dda9dcef",
   "metadata": {},
   "outputs": [
    {
     "name": "stdout",
     "output_type": "stream",
     "text": [
      "Accuracy for RF is: 0.783 +/- 0.014\n",
      "Precision for RF is: 0.819 +/- 0.017\n",
      "AUC for RF is: 0.823 +/- 0.015\n",
      "time for RF is: 8.504615306854248\n",
      "Accuracy for KNN is: 0.764 +/- 0.019\n",
      "Precision for KNN is: 0.822 +/- 0.020\n",
      "AUC for KNN is: 0.788 +/- 0.024\n",
      "time for KNN is: 2.2553608417510986\n",
      "Accuracy for CART is: 0.727 +/- 0.025\n",
      "Precision for CART is: 0.808 +/- 0.022\n",
      "AUC for CART is: 0.656 +/- 0.032\n",
      "time for CART is: 0.6915466785430908\n",
      "Accuracy for MLP is: 0.794 +/- 0.015\n",
      "Precision for MLP is: 0.827 +/- 0.020\n",
      "AUC for MLP is: 0.833 +/- 0.022\n",
      "time for MLP is: 102.01809763908386\n",
      "Accuracy for BGG is: 0.776 +/- 0.012\n",
      "Precision for BGG is: 0.826 +/- 0.016\n",
      "AUC for BGG is: 0.817 +/- 0.021\n",
      "time for BGG is: 25.92080283164978\n",
      "Accuracy for ABC is: 0.788 +/- 0.016\n",
      "Precision for ABC is: 0.823 +/- 0.018\n",
      "AUC for ABC is: 0.829 +/- 0.021\n",
      "time for ABC is: 7.521658658981323\n"
     ]
    }
   ],
   "source": [
    "from sklearn.ensemble import AdaBoostClassifier, BaggingClassifier, RandomForestClassifier\n",
    "from sklearn.model_selection import KFold, cross_val_score\n",
    "from sklearn.neighbors import KNeighborsClassifier\n",
    "from sklearn.tree import DecisionTreeClassifier\n",
    "from sklearn.neural_network import MLPClassifier\n",
    "import time\n",
    "\n",
    "clfs = {\n",
    "    'RF': RandomForestClassifier(n_estimators=50, random_state=1),\n",
    "    'KNN': KNeighborsClassifier(n_neighbors=10),\n",
    "    'CART': DecisionTreeClassifier(random_state=1),\n",
    "    'MLP' : MLPClassifier(hidden_layer_sizes=(40,20), random_state=1, activation='logistic', alpha= 0.0001, learning_rate='constant', solver='adam'),\n",
    "    'BGG' : BaggingClassifier(n_estimators=50),\n",
    "    'ABC' : AdaBoostClassifier(n_estimators=50)\n",
    "}\n",
    "\n",
    "def run_classifiers(clfs, X, Y):\n",
    "    kf = KFold(n_splits=10, shuffle=True, random_state=0)\n",
    "    for i in clfs:\n",
    "        clf = clfs[i]\n",
    "        start = time.time()\n",
    "        cv_acc = cross_val_score(clf, X, Y, cv=kf)\n",
    "        cv_prec = cross_val_score(clf, X, Y, cv=kf, scoring = 'precision')\n",
    "        cv_auc = cross_val_score(clf, X, Y, cv=kf, scoring = 'roc_auc')\n",
    "        runtimes = time.time() - start\n",
    "        print(\"Accuracy for {0} is: {1:.3f} +/- {2:.3f}\".format(i, np.mean(cv_acc), np.std(cv_acc)))\n",
    "        print(\"Precision for {0} is: {1:.3f} +/- {2:.3f}\".format(i, np.mean(cv_prec), np.std(cv_prec)))\n",
    "        print(\"AUC for {0} is: {1:.3f} +/- {2:.3f}\".format(i, np.mean(cv_auc), np.std(cv_auc)))\n",
    "        print(\"time for {0} is:\".format(i), runtimes)\n",
    "\n",
    "\n",
    "run_classifiers(clfs, X_norm, y)"
   ]
  },
  {
   "cell_type": "markdown",
   "id": "b369ecf0",
   "metadata": {},
   "source": [
    "#### Danc cette comparaison de plusieurs algorithmes, MultilayerPerceptron semble être celui qui fait la meilleure estimation, par contre, il est le plus long. Il faut donc parfois faire des compromis entre le temps et la qualité des résultats. MultilayerPerceptron possède aussi l'AUC le plus élevé ce qui signifie qu'il a une meilleure répartitition entre les faux négatifs et faux positifs (plus l'AUC est proche de 1, mieux c'est).\n",
    "#### L'arbre de décision (CART) semble être le moins bon, avec un écart-type plus élevé et une accuracy plus faible que les autres."
   ]
  },
  {
   "cell_type": "markdown",
   "id": "0a02d423",
   "metadata": {},
   "source": [
    "# II. Apprentissage supervisé: Données hétérogènes"
   ]
  },
  {
   "cell_type": "markdown",
   "id": "4e19eaf5",
   "metadata": {},
   "source": [
    "## 1.a. Chargement des données et préparation"
   ]
  },
  {
   "cell_type": "code",
   "execution_count": 26,
   "id": "e87c6cf2",
   "metadata": {},
   "outputs": [
    {
     "data": {
      "text/html": [
       "<div>\n",
       "<style scoped>\n",
       "    .dataframe tbody tr th:only-of-type {\n",
       "        vertical-align: middle;\n",
       "    }\n",
       "\n",
       "    .dataframe tbody tr th {\n",
       "        vertical-align: top;\n",
       "    }\n",
       "\n",
       "    .dataframe thead th {\n",
       "        text-align: right;\n",
       "    }\n",
       "</style>\n",
       "<table border=\"1\" class=\"dataframe\">\n",
       "  <thead>\n",
       "    <tr style=\"text-align: right;\">\n",
       "      <th></th>\n",
       "      <th>0</th>\n",
       "      <th>1</th>\n",
       "      <th>2</th>\n",
       "      <th>3</th>\n",
       "      <th>4</th>\n",
       "      <th>5</th>\n",
       "      <th>6</th>\n",
       "      <th>7</th>\n",
       "      <th>8</th>\n",
       "      <th>9</th>\n",
       "      <th>10</th>\n",
       "      <th>11</th>\n",
       "      <th>12</th>\n",
       "      <th>13</th>\n",
       "      <th>14</th>\n",
       "      <th>15</th>\n",
       "    </tr>\n",
       "  </thead>\n",
       "  <tbody>\n",
       "    <tr>\n",
       "      <th>0</th>\n",
       "      <td>b</td>\n",
       "      <td>30.83</td>\n",
       "      <td>0.000</td>\n",
       "      <td>u</td>\n",
       "      <td>g</td>\n",
       "      <td>w</td>\n",
       "      <td>v</td>\n",
       "      <td>1.25</td>\n",
       "      <td>t</td>\n",
       "      <td>t</td>\n",
       "      <td>1</td>\n",
       "      <td>f</td>\n",
       "      <td>g</td>\n",
       "      <td>202</td>\n",
       "      <td>0</td>\n",
       "      <td>+</td>\n",
       "    </tr>\n",
       "    <tr>\n",
       "      <th>1</th>\n",
       "      <td>a</td>\n",
       "      <td>58.67</td>\n",
       "      <td>4.460</td>\n",
       "      <td>u</td>\n",
       "      <td>g</td>\n",
       "      <td>q</td>\n",
       "      <td>h</td>\n",
       "      <td>3.04</td>\n",
       "      <td>t</td>\n",
       "      <td>t</td>\n",
       "      <td>6</td>\n",
       "      <td>f</td>\n",
       "      <td>g</td>\n",
       "      <td>43</td>\n",
       "      <td>560</td>\n",
       "      <td>+</td>\n",
       "    </tr>\n",
       "    <tr>\n",
       "      <th>2</th>\n",
       "      <td>a</td>\n",
       "      <td>24.50</td>\n",
       "      <td>0.500</td>\n",
       "      <td>u</td>\n",
       "      <td>g</td>\n",
       "      <td>q</td>\n",
       "      <td>h</td>\n",
       "      <td>1.50</td>\n",
       "      <td>t</td>\n",
       "      <td>f</td>\n",
       "      <td>0</td>\n",
       "      <td>f</td>\n",
       "      <td>g</td>\n",
       "      <td>280</td>\n",
       "      <td>824</td>\n",
       "      <td>+</td>\n",
       "    </tr>\n",
       "    <tr>\n",
       "      <th>3</th>\n",
       "      <td>b</td>\n",
       "      <td>27.83</td>\n",
       "      <td>1.540</td>\n",
       "      <td>u</td>\n",
       "      <td>g</td>\n",
       "      <td>w</td>\n",
       "      <td>v</td>\n",
       "      <td>3.75</td>\n",
       "      <td>t</td>\n",
       "      <td>t</td>\n",
       "      <td>5</td>\n",
       "      <td>t</td>\n",
       "      <td>g</td>\n",
       "      <td>100</td>\n",
       "      <td>3</td>\n",
       "      <td>+</td>\n",
       "    </tr>\n",
       "    <tr>\n",
       "      <th>4</th>\n",
       "      <td>b</td>\n",
       "      <td>20.17</td>\n",
       "      <td>5.625</td>\n",
       "      <td>u</td>\n",
       "      <td>g</td>\n",
       "      <td>w</td>\n",
       "      <td>v</td>\n",
       "      <td>1.71</td>\n",
       "      <td>t</td>\n",
       "      <td>f</td>\n",
       "      <td>0</td>\n",
       "      <td>f</td>\n",
       "      <td>s</td>\n",
       "      <td>120</td>\n",
       "      <td>0</td>\n",
       "      <td>+</td>\n",
       "    </tr>\n",
       "  </tbody>\n",
       "</table>\n",
       "</div>"
      ],
      "text/plain": [
       "  0      1      2  3  4  5  6     7  8  9   10 11 12   13   14 15\n",
       "0  b  30.83  0.000  u  g  w  v  1.25  t  t   1  f  g  202    0  +\n",
       "1  a  58.67  4.460  u  g  q  h  3.04  t  t   6  f  g   43  560  +\n",
       "2  a  24.50  0.500  u  g  q  h  1.50  t  f   0  f  g  280  824  +\n",
       "3  b  27.83  1.540  u  g  w  v  3.75  t  t   5  t  g  100    3  +\n",
       "4  b  20.17  5.625  u  g  w  v  1.71  t  f   0  f  s  120    0  +"
      ]
     },
     "execution_count": 26,
     "metadata": {},
     "output_type": "execute_result"
    }
   ],
   "source": [
    "data2 = pd.read_csv('./TP_AS/credit.data', sep='\\t', header = None)\n",
    "#affiche tous les valeurs\n",
    "#pd.set_option('max_colwidth',200)\n",
    "#pd.set_option('display.max_columns',None)\n",
    "#pd.set_option('display.max_rows',None)\n",
    "#print(data)\n",
    "data2.head()"
   ]
  },
  {
   "cell_type": "code",
   "execution_count": 27,
   "id": "aeca7948",
   "metadata": {},
   "outputs": [],
   "source": [
    "df2=pd.DataFrame(data2)\n",
    "#separate status from whole dataframe\n",
    "y2=np.array(df2[15]).reshape(-1,1)\n",
    "#drop off the column status and transfert it to array for analysis\n",
    "df_sep2=df2.drop(columns=[15])\n",
    "X2=np.array(df_sep2)"
   ]
  },
  {
   "cell_type": "code",
   "execution_count": 40,
   "id": "d8d9571f",
   "metadata": {},
   "outputs": [
    {
     "name": "stdout",
     "output_type": "stream",
     "text": [
      "avant la suppression d'individus:\n",
      "(688, 6)\n",
      "après la suppression d'individus:\n",
      "(666, 7)\n"
     ]
    }
   ],
   "source": [
    "#creation de sous-ensemble et replace ? par NaN et float\n",
    "for column in list(df2.columns):\n",
    "    df2[column] = pd.to_numeric(df2[column], downcast='integer', errors='coerce')\n",
    "df_yep=df2.dropna(axis=1,how=\"all\")\n",
    "df_astype=df_yep.astype(float)\n",
    "#suppression d'individu\n",
    "print(\"avant la suppression d'individus:\")\n",
    "print(np.shape(df_astype))\n",
    "print(\"après la suppression d'individus:\")\n",
    "np_concat=np.concatenate((df_yep,y2),axis=1)\n",
    "df_sp_ind=pd.DataFrame(np_concat).dropna()\n",
    "print(np.shape(df_sp_ind))\n",
    "# Binarisation du target\n",
    "y2_clear=np.array(df_sp_ind[6]).reshape(-1,1)\n",
    "list_y2=[]\n",
    "for i in y2_clear:\n",
    "    if i ==\"+\":\n",
    "        list_y2.append(1)\n",
    "    elif i==\"-\":\n",
    "        list_y2.append(0)\n",
    "y2_trans=np.array(list_y2).reshape(-1,1)\n",
    "df_sep2_X2=df_sp_ind.drop(columns=[6])\n",
    "X2_clear=np.array(df_sep2_X2)"
   ]
  },
  {
   "cell_type": "code",
   "execution_count": 42,
   "id": "6ce422bd",
   "metadata": {},
   "outputs": [
    {
     "name": "stdout",
     "output_type": "stream",
     "text": [
      "(666, 1)\n"
     ]
    },
    {
     "data": {
      "text/plain": [
       "(array([367.,   0.,   0.,   0.,   0.,   0.,   0.,   0.,   0., 299.]),\n",
       " array([0. , 0.1, 0.2, 0.3, 0.4, 0.5, 0.6, 0.7, 0.8, 0.9, 1. ]),\n",
       " <BarContainer object of 10 artists>)"
      ]
     },
     "execution_count": 42,
     "metadata": {},
     "output_type": "execute_result"
    },
    {
     "data": {
      "image/png": "[encoded data removed]",
      "text/plain": [
       "<Figure size 432x288 with 1 Axes>"
      ]
     },
     "metadata": {
      "needs_background": "light"
     },
     "output_type": "display_data"
    }
   ],
   "source": [
    "#discover our array data\n",
    "print(np.shape(y2_trans))\n",
    "#nombre d'exemples positifs et négatifs\n",
    "plt.hist(y2_trans)\n",
    "# Il y a environ 360 négatifs (0) et 300 positifs (1)"
   ]
  },
  {
   "cell_type": "code",
   "execution_count": 45,
   "id": "13b47bf9",
   "metadata": {},
   "outputs": [
    {
     "name": "stdout",
     "output_type": "stream",
     "text": [
      "Accuracy for RF is: 0.788 +/- 0.053\n",
      "Precision for RF is: 0.808 +/- 0.058\n",
      "AUC for RF is: 0.841 +/- 0.046\n",
      "time for RF is: 2.037921667098999\n",
      "Accuracy for KNN is: 0.704 +/- 0.055\n",
      "Precision for KNN is: 0.756 +/- 0.075\n",
      "AUC for KNN is: 0.745 +/- 0.042\n",
      "time for KNN is: 0.10400199890136719\n",
      "Accuracy for CART is: 0.716 +/- 0.047\n",
      "Precision for CART is: 0.680 +/- 0.045\n",
      "AUC for CART is: 0.711 +/- 0.051\n",
      "time for CART is: 0.08883833885192871\n",
      "Accuracy for MLP is: 0.803 +/- 0.038\n",
      "Precision for MLP is: 0.838 +/- 0.049\n",
      "AUC for MLP is: 0.848 +/- 0.033\n",
      "time for MLP is: 10.21897292137146\n",
      "Accuracy for BGG is: 0.790 +/- 0.052\n",
      "Precision for BGG is: 0.801 +/- 0.043\n",
      "AUC for BGG is: 0.834 +/- 0.050\n",
      "time for BGG is: 3.1643424034118652\n",
      "Accuracy for ABC is: 0.770 +/- 0.063\n",
      "Precision for ABC is: 0.761 +/- 0.060\n",
      "AUC for ABC is: 0.841 +/- 0.053\n",
      "time for ABC is: 2.1265053749084473\n"
     ]
    }
   ],
   "source": [
    "run_classifiers(clfs, X2_clear, y2_trans)"
   ]
  },
  {
   "cell_type": "markdown",
   "id": "d69f093d",
   "metadata": {},
   "source": [
    "#### On observe que le meilleur algorithme semble être MultilayerPerceptron, qui possède la plus grande accuracy et précision, les écart-types les plus faibles donc plus stable et l'AUC la plus élevée donc une meilleure répartition entre les faux positifs et les faux négatifs. Par contre, il est le plus long à s'exécuter."
   ]
  },
  {
   "cell_type": "markdown",
   "id": "e4aa0b6c",
   "metadata": {},
   "source": [
    "## 1.b Normalisation des variables continues"
   ]
  },
  {
   "cell_type": "code",
   "execution_count": 51,
   "id": "cff5c4ca",
   "metadata": {},
   "outputs": [],
   "source": [
    "X2_train, X2_test, y2_train, y2_test=train_test_split(X2_clear,y2_trans, random_state=1)"
   ]
  },
  {
   "cell_type": "code",
   "execution_count": 52,
   "id": "7fb545c4",
   "metadata": {},
   "outputs": [],
   "source": [
    "from sklearn.preprocessing import StandardScaler\n",
    "scaler = StandardScaler()\n",
    "scaler.fit(X2_train)\n",
    "X2_train_norm = scaler.transform(X2_train)\n",
    "X2_test_norm = scaler.transform(X2_test)\n",
    "scaler.fit(X2_clear)\n",
    "X2_norm = scaler.transform(X2_clear)"
   ]
  },
  {
   "cell_type": "code",
   "execution_count": 53,
   "id": "a1c8d32a",
   "metadata": {},
   "outputs": [
    {
     "name": "stdout",
     "output_type": "stream",
     "text": [
      "Accuracy for RF is: 0.790 +/- 0.050\n",
      "Precision for RF is: 0.809 +/- 0.058\n",
      "AUC for RF is: 0.841 +/- 0.046\n",
      "time for RF is: 2.131981611251831\n",
      "Accuracy for KNN is: 0.737 +/- 0.056\n",
      "Precision for KNN is: 0.822 +/- 0.052\n",
      "AUC for KNN is: 0.818 +/- 0.046\n",
      "time for KNN is: 0.09360933303833008\n",
      "Accuracy for CART is: 0.716 +/- 0.048\n",
      "Precision for CART is: 0.679 +/- 0.048\n",
      "AUC for CART is: 0.711 +/- 0.052\n",
      "time for CART is: 0.0757284164428711\n",
      "Accuracy for MLP is: 0.764 +/- 0.049\n",
      "Precision for MLP is: 0.814 +/- 0.064\n",
      "AUC for MLP is: 0.827 +/- 0.050\n",
      "time for MLP is: 9.887094259262085\n",
      "Accuracy for BGG is: 0.781 +/- 0.043\n",
      "Precision for BGG is: 0.795 +/- 0.047\n",
      "AUC for BGG is: 0.835 +/- 0.050\n",
      "time for BGG is: 2.9762744903564453\n",
      "Accuracy for ABC is: 0.770 +/- 0.063\n",
      "Precision for ABC is: 0.761 +/- 0.060\n",
      "AUC for ABC is: 0.841 +/- 0.053\n",
      "time for ABC is: 2.0198068618774414\n"
     ]
    }
   ],
   "source": [
    "run_classifiers(clfs, X2_norm, y2_trans)"
   ]
  },
  {
   "cell_type": "markdown",
   "id": "71d55a9f",
   "metadata": {},
   "source": [
    "#### On oberve une augmentation pour Random Forest et KNN mais une diminution pour MLP et Bagging.\n",
    "#### Le meilleur algotihme semble ici être Random Forest mais il a des résutats plus faible que pour MLP avec des données non normalisées"
   ]
  },
  {
   "cell_type": "code",
   "execution_count": 54,
   "id": "8a40209e",
   "metadata": {},
   "outputs": [],
   "source": [
    "from sklearn.preprocessing import MinMaxScaler\n",
    "MinMaxscaler = MinMaxScaler()\n",
    "MinMaxscaler.fit(X2_train)\n",
    "X2_train_MM = MinMaxscaler.transform(X2_train)\n",
    "X2_test_MM = MinMaxscaler.transform(X2_test)\n",
    "MinMaxscaler.fit(X2_clear)\n",
    "X2_MM = MinMaxscaler.transform(X2_clear)"
   ]
  },
  {
   "cell_type": "code",
   "execution_count": 55,
   "id": "1a528a65",
   "metadata": {},
   "outputs": [
    {
     "name": "stdout",
     "output_type": "stream",
     "text": [
      "Accuracy for RF is: 0.788 +/- 0.053\n",
      "Precision for RF is: 0.808 +/- 0.058\n",
      "AUC for RF is: 0.841 +/- 0.046\n",
      "time for RF is: 2.0095486640930176\n",
      "Accuracy for KNN is: 0.728 +/- 0.070\n",
      "Precision for KNN is: 0.823 +/- 0.082\n",
      "AUC for KNN is: 0.799 +/- 0.073\n",
      "time for KNN is: 0.11089587211608887\n",
      "Accuracy for CART is: 0.716 +/- 0.047\n",
      "Precision for CART is: 0.680 +/- 0.045\n",
      "AUC for CART is: 0.711 +/- 0.051\n",
      "time for CART is: 0.0888214111328125\n",
      "Accuracy for MLP is: 0.616 +/- 0.101\n",
      "Precision for MLP is: 0.368 +/- 0.371\n",
      "AUC for MLP is: 0.740 +/- 0.077\n",
      "time for MLP is: 5.816235542297363\n",
      "Accuracy for BGG is: 0.787 +/- 0.041\n",
      "Precision for BGG is: 0.799 +/- 0.053\n",
      "AUC for BGG is: 0.835 +/- 0.050\n",
      "time for BGG is: 3.0573174953460693\n",
      "Accuracy for ABC is: 0.770 +/- 0.063\n",
      "Precision for ABC is: 0.761 +/- 0.060\n",
      "AUC for ABC is: 0.841 +/- 0.053\n",
      "time for ABC is: 2.0651001930236816\n"
     ]
    }
   ],
   "source": [
    "run_classifiers(clfs, X2_MM, y2_trans)"
   ]
  },
  {
   "cell_type": "markdown",
   "id": "6e124ec6",
   "metadata": {},
   "source": [
    "#### On oberve une augmentation pour KNN mais une diminution pour MLP et Bagging.\n",
    "#### Le meilleur algotihme semble ici être Random Forest mais il a des résutats plus faible que pour MLP avec des données non normalisées"
   ]
  },
  {
   "cell_type": "markdown",
   "id": "e36925dc",
   "metadata": {},
   "source": [
    "## 2.a Traitement des données manquantes"
   ]
  },
  {
   "cell_type": "code",
   "execution_count": 122,
   "id": "f5048d31",
   "metadata": {},
   "outputs": [],
   "source": [
    "from sklearn.impute import SimpleImputer\n",
    "#Pour les variables catégorielles\n",
    "col_cat = [0,3,4,5,6,8,9,11,12]\n",
    "X_cat = np.copy(X2[:, col_cat])\n",
    "for col_id in range(len(col_cat)):\n",
    "    unique_val, val_idx = np.unique(X_cat[:, col_id], return_inverse=True)\n",
    "    X_cat[:, col_id] = val_idx\n",
    "imp_cat = SimpleImputer(missing_values=0, strategy='most_frequent')\n",
    "X_cat[:, range(5)] = imp_cat.fit_transform(X_cat[:, range(5)])"
   ]
  },
  {
   "cell_type": "code",
   "execution_count": 123,
   "id": "0c060499",
   "metadata": {},
   "outputs": [],
   "source": [
    "#Pour les variables numériques\n",
    "col_num = [1,2,7,10,13,14]\n",
    "X_num = np.copy(X2[:, col_num])\n",
    "X_num[X_num == '?'] = np.nan\n",
    "X_num = X_num.astype(float)\n",
    "imp_num = SimpleImputer(missing_values=np.nan, strategy='mean')\n",
    "X_num = imp_num.fit_transform(X_num)"
   ]
  },
  {
   "cell_type": "markdown",
   "id": "bde4e883",
   "metadata": {},
   "source": [
    "## 2.b Traitement de variables catégorielles"
   ]
  },
  {
   "cell_type": "code",
   "execution_count": 120,
   "id": "a5010c49",
   "metadata": {},
   "outputs": [
    {
     "data": {
      "text/plain": [
       "(688, 40)"
      ]
     },
     "execution_count": 120,
     "metadata": {},
     "output_type": "execute_result"
    }
   ],
   "source": [
    "from sklearn.preprocessing import OneHotEncoder\n",
    "X_cat_bin = OneHotEncoder().fit_transform(X_cat).toarray()\n",
    "np.shape(X_cat_bin)"
   ]
  },
  {
   "cell_type": "markdown",
   "id": "e922809b",
   "metadata": {},
   "source": [
    "## 2.c Construction de votre jeu de données"
   ]
  },
  {
   "cell_type": "code",
   "execution_count": 125,
   "id": "7e56f2c0",
   "metadata": {},
   "outputs": [],
   "source": [
    "# Normalisation des données continues\n",
    "scaler = StandardScaler()\n",
    "scaler.fit(X_num)\n",
    "X_num_norm = scaler.transform(X_num)"
   ]
  },
  {
   "cell_type": "code",
   "execution_count": 124,
   "id": "08214d67",
   "metadata": {},
   "outputs": [],
   "source": [
    "# Concatenation des données catégorielles transformées et des données continues normalisées\n",
    "X_concat=np.concatenate((X_num_norm,X_cat_bin),axis=1)"
   ]
  },
  {
   "cell_type": "code",
   "execution_count": 114,
   "id": "1b0df5c5",
   "metadata": {},
   "outputs": [],
   "source": [
    "# Binarisation de target\n",
    "list_y2=[]\n",
    "for i in y2:\n",
    "    if i ==\"+\":\n",
    "        list_y2.append(1)\n",
    "    elif i==\"-\":\n",
    "        list_y2.append(0)\n",
    "y2_bin=np.array(list_y2).reshape(-1,1)"
   ]
  },
  {
   "cell_type": "code",
   "execution_count": 115,
   "id": "7f21b2c3",
   "metadata": {},
   "outputs": [
    {
     "name": "stdout",
     "output_type": "stream",
     "text": [
      "Accuracy for RF is: 0.878 +/- 0.029\n",
      "Precision for RF is: 0.861 +/- 0.043\n",
      "AUC for RF is: 0.930 +/- 0.029\n",
      "time for RF is: 1.9777545928955078\n",
      "Accuracy for KNN is: 0.847 +/- 0.048\n",
      "Precision for KNN is: 0.882 +/- 0.043\n",
      "AUC for KNN is: 0.911 +/- 0.031\n",
      "time for KNN is: 0.1867203712463379\n",
      "Accuracy for CART is: 0.815 +/- 0.043\n",
      "Precision for CART is: 0.793 +/- 0.066\n",
      "AUC for CART is: 0.814 +/- 0.046\n",
      "time for CART is: 0.10379505157470703\n",
      "Accuracy for MLP is: 0.856 +/- 0.046\n",
      "Precision for MLP is: 0.836 +/- 0.076\n",
      "AUC for MLP is: 0.926 +/- 0.033\n",
      "time for MLP is: 17.69722867012024\n",
      "Accuracy for BGG is: 0.860 +/- 0.045\n",
      "Precision for BGG is: 0.845 +/- 0.055\n",
      "AUC for BGG is: 0.931 +/- 0.026\n",
      "time for BGG is: 4.028550863265991\n",
      "Accuracy for ABC is: 0.844 +/- 0.037\n",
      "Precision for ABC is: 0.814 +/- 0.069\n",
      "AUC for ABC is: 0.916 +/- 0.032\n",
      "time for ABC is: 2.391494035720825\n"
     ]
    }
   ],
   "source": [
    "run_classifiers(clfs, X_concat, y2_bin)"
   ]
  },
  {
   "cell_type": "markdown",
   "id": "cd763771",
   "metadata": {},
   "source": [
    "#### Le fait d'utiliser toutes la variables et données manquantes permet d'augmenter l'accuracy, la précision et l'AUC de tous les algorithmes. Le meilleur des algorithmes pour ce jeux de données est donc Random Forest avec la plus grande accuracy, précision et AUC et les plus faibles écart-types. De plus, cet algorithme n'a pas le temps d'exécution le plus long."
   ]
  },
  {
   "cell_type": "markdown",
   "id": "2e2f69be",
   "metadata": {},
   "source": [
    "# III. Apprentissage supervisé sur des données textuelles : Feature engineering et Classification"
   ]
  },
  {
   "cell_type": "code",
   "execution_count": 24,
   "id": "83502c63",
   "metadata": {
    "scrolled": true
   },
   "outputs": [
    {
     "data": {
      "text/html": [
       "<div>\n",
       "<style scoped>\n",
       "    .dataframe tbody tr th:only-of-type {\n",
       "        vertical-align: middle;\n",
       "    }\n",
       "\n",
       "    .dataframe tbody tr th {\n",
       "        vertical-align: top;\n",
       "    }\n",
       "\n",
       "    .dataframe thead th {\n",
       "        text-align: right;\n",
       "    }\n",
       "</style>\n",
       "<table border=\"1\" class=\"dataframe\">\n",
       "  <thead>\n",
       "    <tr style=\"text-align: right;\">\n",
       "      <th></th>\n",
       "      <th>0</th>\n",
       "      <th>1</th>\n",
       "    </tr>\n",
       "  </thead>\n",
       "  <tbody>\n",
       "    <tr>\n",
       "      <th>0</th>\n",
       "      <td>ham</td>\n",
       "      <td>Go until jurong point, crazy.. Available only ...</td>\n",
       "    </tr>\n",
       "    <tr>\n",
       "      <th>1</th>\n",
       "      <td>ham</td>\n",
       "      <td>Ok lar... Joking wif u oni...</td>\n",
       "    </tr>\n",
       "    <tr>\n",
       "      <th>2</th>\n",
       "      <td>spam</td>\n",
       "      <td>Free entry in 2 a wkly comp to win FA Cup fina...</td>\n",
       "    </tr>\n",
       "    <tr>\n",
       "      <th>3</th>\n",
       "      <td>ham</td>\n",
       "      <td>U dun say so early hor... U c already then say...</td>\n",
       "    </tr>\n",
       "    <tr>\n",
       "      <th>4</th>\n",
       "      <td>ham</td>\n",
       "      <td>Nah I don't think he goes to usf, he lives aro...</td>\n",
       "    </tr>\n",
       "  </tbody>\n",
       "</table>\n",
       "</div>"
      ],
      "text/plain": [
       "      0                                                  1\n",
       "0   ham  Go until jurong point, crazy.. Available only ...\n",
       "1   ham                      Ok lar... Joking wif u oni...\n",
       "2  spam  Free entry in 2 a wkly comp to win FA Cup fina...\n",
       "3   ham  U dun say so early hor... U c already then say...\n",
       "4   ham  Nah I don't think he goes to usf, he lives aro..."
      ]
     },
     "execution_count": 24,
     "metadata": {},
     "output_type": "execute_result"
    }
   ],
   "source": [
    "data3 = pd.read_csv('./TP_AS/SMSSpamCollection.data', sep='\\t', header = None)\n",
    "data3.head()"
   ]
  },
  {
   "cell_type": "code",
   "execution_count": 25,
   "id": "6a36d10b",
   "metadata": {},
   "outputs": [],
   "source": [
    "df3=pd.DataFrame(data3)\n",
    "y3 = np.array(df3[0]).reshape(-1,1)"
   ]
  },
  {
   "cell_type": "markdown",
   "id": "92d1557f",
   "metadata": {},
   "source": [
    "## CountVectorizer"
   ]
  },
  {
   "cell_type": "code",
   "execution_count": 26,
   "id": "3721997e",
   "metadata": {},
   "outputs": [],
   "source": [
    "from sklearn.feature_extraction.text import CountVectorizer\n",
    "\n",
    "vectorizer = CountVectorizer(max_features = 500, stop_words = {'english'})\n",
    "vectorizer.fit(df3[1])\n",
    "X3_cv = vectorizer.transform(df3[1])"
   ]
  },
  {
   "cell_type": "code",
   "execution_count": 27,
   "id": "e4fd5aec",
   "metadata": {},
   "outputs": [],
   "source": [
    "# Binarisation du target\n",
    "list_y3=[]\n",
    "for i in y3:\n",
    "    if i ==\"ham\":\n",
    "        list_y3.append(1)\n",
    "    elif i==\"spam\":\n",
    "        list_y3.append(0)\n",
    "y3_bin=np.array(list_y3).reshape(-1,1)"
   ]
  },
  {
   "cell_type": "code",
   "execution_count": 37,
   "id": "7354521d",
   "metadata": {},
   "outputs": [
    {
     "name": "stdout",
     "output_type": "stream",
     "text": [
      "Accuracy for RF is: 0.982 +/- 0.005\n",
      "Precision for RF is: 0.982 +/- 0.006\n",
      "AUC for RF is: 0.990 +/- 0.005\n",
      "time for RF is: 8.071411848068237\n",
      "Accuracy for KNN is: 0.925 +/- 0.013\n",
      "Precision for KNN is: 0.921 +/- 0.014\n",
      "AUC for KNN is: 0.908 +/- 0.028\n",
      "time for KNN is: 2.3083505630493164\n",
      "Accuracy for CART is: 0.967 +/- 0.007\n",
      "Precision for CART is: 0.980 +/- 0.006\n",
      "AUC for CART is: 0.928 +/- 0.015\n",
      "time for CART is: 1.3988053798675537\n",
      "Accuracy for MLP is: 0.981 +/- 0.004\n",
      "Precision for MLP is: 0.987 +/- 0.003\n",
      "AUC for MLP is: 0.981 +/- 0.011\n",
      "time for MLP is: 130.78238153457642\n",
      "Accuracy for BGG is: 0.973 +/- 0.006\n",
      "Precision for BGG is: 0.982 +/- 0.005\n",
      "AUC for BGG is: 0.981 +/- 0.009\n",
      "time for BGG is: 62.626885175704956\n",
      "Accuracy for ABC is: 0.973 +/- 0.004\n",
      "Precision for ABC is: 0.977 +/- 0.003\n",
      "AUC for ABC is: 0.978 +/- 0.009\n",
      "time for ABC is: 4.607985734939575\n"
     ]
    }
   ],
   "source": [
    "run_classifiers(clfs, X3_cv, y3_bin)"
   ]
  },
  {
   "cell_type": "markdown",
   "id": "b42814de",
   "metadata": {},
   "source": [
    "#### Le meilleur algorithme est ici Random Forest, il possède la meilleur accuracy, et AUC et la deuxième meilleure précision."
   ]
  },
  {
   "cell_type": "markdown",
   "id": "666ab8fc",
   "metadata": {},
   "source": [
    "## Tf_idf term weighting"
   ]
  },
  {
   "cell_type": "code",
   "execution_count": 28,
   "id": "c8a3b6cb",
   "metadata": {
    "scrolled": true
   },
   "outputs": [],
   "source": [
    "from sklearn.feature_extraction.text import TfidfTransformer\n",
    "\n",
    "transformer = TfidfTransformer(smooth_idf = False)\n",
    "transformer.fit(X3_cv)\n",
    "X3_trans = transformer.transform(X3_cv)\n"
   ]
  },
  {
   "cell_type": "code",
   "execution_count": 48,
   "id": "2b1068fe",
   "metadata": {},
   "outputs": [
    {
     "name": "stdout",
     "output_type": "stream",
     "text": [
      "Accuracy for RF is: 0.983 +/- 0.005\n",
      "Precision for RF is: 0.982 +/- 0.006\n",
      "AUC for RF is: 0.992 +/- 0.006\n",
      "time for RF is: 11.188167333602905\n",
      "Accuracy for KNN is: 0.919 +/- 0.012\n",
      "Precision for KNN is: 0.915 +/- 0.013\n",
      "AUC for KNN is: 0.883 +/- 0.024\n",
      "time for KNN is: 2.2720258235931396\n",
      "Accuracy for CART is: 0.966 +/- 0.008\n",
      "Precision for CART is: 0.978 +/- 0.006\n",
      "AUC for CART is: 0.923 +/- 0.019\n",
      "time for CART is: 4.463662385940552\n",
      "Accuracy for MLP is: 0.981 +/- 0.003\n",
      "Precision for MLP is: 0.988 +/- 0.003\n",
      "AUC for MLP is: 0.986 +/- 0.009\n",
      "time for MLP is: 191.4327917098999\n",
      "Accuracy for BGG is: 0.973 +/- 0.007\n",
      "Precision for BGG is: 0.983 +/- 0.005\n",
      "AUC for BGG is: 0.981 +/- 0.007\n",
      "time for BGG is: 140.6345338821411\n",
      "Accuracy for ABC is: 0.975 +/- 0.005\n",
      "Precision for ABC is: 0.980 +/- 0.005\n",
      "AUC for ABC is: 0.981 +/- 0.008\n",
      "time for ABC is: 8.873771905899048\n"
     ]
    }
   ],
   "source": [
    "run_classifiers(clfs, X3_trans, y3_bin)"
   ]
  },
  {
   "cell_type": "markdown",
   "id": "6fa3b84e",
   "metadata": {},
   "source": [
    "#### En rajoutant la pondération et la normalisation, les résultats pour Random Forest, MLP et Adaboost s'on amélioré mais pour KNN et Cart les résultats sont moins bon.\n",
    "#### Le meilleur algorithme pour ces données est toujours Random Forest."
   ]
  },
  {
   "cell_type": "markdown",
   "id": "54380140",
   "metadata": {},
   "source": [
    "## TruncatedSVD"
   ]
  },
  {
   "cell_type": "code",
   "execution_count": 29,
   "id": "dd8c6792",
   "metadata": {},
   "outputs": [],
   "source": [
    "from sklearn.decomposition import TruncatedSVD\n",
    "from scipy.sparse import csr_matrix\n",
    "\n",
    "X3_mat = csr_matrix(X3_trans)\n",
    "svd = TruncatedSVD(n_components=300)\n",
    "svd.fit(X3_mat)\n",
    "X3_svd = svd.transform(X3_mat)"
   ]
  },
  {
   "cell_type": "code",
   "execution_count": 57,
   "id": "e426d1ef",
   "metadata": {},
   "outputs": [
    {
     "name": "stdout",
     "output_type": "stream",
     "text": [
      "Accuracy for RF is: 0.965 +/- 0.010\n",
      "Precision for RF is: 0.961 +/- 0.011\n",
      "AUC for RF is: 0.972 +/- 0.018\n",
      "time for RF is: 89.81912040710449\n",
      "Accuracy for KNN is: 0.938 +/- 0.011\n",
      "Precision for KNN is: 0.935 +/- 0.012\n",
      "AUC for KNN is: 0.923 +/- 0.021\n",
      "time for KNN is: 49.00298070907593\n",
      "Accuracy for CART is: 0.953 +/- 0.007\n",
      "Precision for CART is: 0.974 +/- 0.007\n",
      "AUC for CART is: 0.901 +/- 0.024\n",
      "time for CART is: 64.51304912567139\n",
      "Accuracy for MLP is: 0.980 +/- 0.006\n",
      "Precision for MLP is: 0.987 +/- 0.004\n",
      "AUC for MLP is: 0.985 +/- 0.010\n",
      "time for MLP is: 155.29684829711914\n",
      "Accuracy for BGG is: 0.973 +/- 0.005\n",
      "Precision for BGG is: 0.977 +/- 0.005\n",
      "AUC for BGG is: 0.972 +/- 0.015\n",
      "time for BGG is: 1936.8934750556946\n",
      "Accuracy for ABC is: 0.968 +/- 0.007\n",
      "Precision for ABC is: 0.976 +/- 0.007\n",
      "AUC for ABC is: 0.976 +/- 0.013\n",
      "time for ABC is: 224.16782450675964\n"
     ]
    }
   ],
   "source": [
    "run_classifiers(clfs, X3_svd, y3_bin)"
   ]
  },
  {
   "cell_type": "markdown",
   "id": "f21a2153",
   "metadata": {},
   "source": [
    "#### En rajoutant cette étape, seul l'algorithme KNN est amélioré les autres alorithmes ont des performances qui diminuent."
   ]
  },
  {
   "cell_type": "markdown",
   "id": "7a19e79e",
   "metadata": {},
   "source": [
    "## Pipeline et son application dans les données"
   ]
  },
  {
   "cell_type": "code",
   "execution_count": null,
   "id": "5ccd735f",
   "metadata": {},
   "outputs": [
    {
     "name": "stdout",
     "output_type": "stream",
     "text": [
      "Accuracy for RF is: 0.817 +/- 0.005\n",
      "Precision for RF is: 0.814 +/- 0.004\n",
      "AUC for RF is: 0.852 +/- 0.004\n",
      "time for RF is: 1576.014036655426\n",
      "Accuracy for KNN is: 0.800 +/- 0.005\n",
      "Precision for KNN is: 0.854 +/- 0.005\n",
      "AUC for KNN is: 0.749 +/- 0.011\n",
      "time for KNN is: 5153.136072874069\n",
      "Accuracy for CART is: 0.750 +/- 0.007\n",
      "Precision for CART is: 0.843 +/- 0.006\n",
      "AUC for CART is: 0.641 +/- 0.010\n",
      "time for CART is: 1297.5956003665924\n",
      "Accuracy for MLP is: 0.887 +/- 0.004\n",
      "Precision for MLP is: 0.911 +/- 0.006\n",
      "AUC for MLP is: 0.935 +/- 0.003\n",
      "time for MLP is: 1332.321124792099\n"
     ]
    }
   ],
   "source": [
    "from sklearn.pipeline import Pipeline\n",
    "data4 = pd.read_csv('./TP_AS/yelp-text-by-stars.csv', sep=';', encoding=\"ISO-8859-1\", header = 0)\n",
    "df4=pd.DataFrame(data4)\n",
    "X4=df4.iloc[:,1]\n",
    "y4_pd=df4.iloc[:,0]\n",
    "y4=np.array(y4_pd).reshape(-1,1)\n",
    "list_y4=[]\n",
    "for i in y4:\n",
    "    if i < 3:\n",
    "        list_y4.append(0)\n",
    "    elif i >= 3:\n",
    "        list_y4.append(1)\n",
    "y4_bin=np.array(list_y4).reshape(-1,1)\n",
    "\n",
    "pipe = Pipeline([('count', CountVectorizer(max_features=500,stop_words={\"english\"})),('tfid', TfidfTransformer(smooth_idf=False)),('svd', TruncatedSVD(n_components=300))])\n",
    "pipe.fit(X4)\n",
    "X4_array=pipe.transform(X4)\n",
    "run_classifiers(clfs, X4_array,y4_bin)"
   ]
  },
  {
   "cell_type": "markdown",
   "id": "51116cae",
   "metadata": {},
   "source": [
    "#### Le pipeline durant longtemps, nous n'avons pas pu avoir les résultats pour tous les algorithmes.\n",
    "#### Dans les résultats que nous avons obtenus, le meilleur algorithme pour ces données est MLP, il possède la meilleure accuracy, précision et AUC."
   ]
  }
 ],
 "metadata": {
  "kernelspec": {
   "display_name": "Python 3 (ipykernel)",
   "language": "python",
   "name": "python3"
  },
  "language_info": {
   "codemirror_mode": {
    "name": "ipython",
    "version": 3
   },
   "file_extension": ".py",
   "mimetype": "text/x-python",
   "name": "python",
   "nbconvert_exporter": "python",
   "pygments_lexer": "ipython3",
   "version": "3.8.2"
  }
 },
 "nbformat": 4,
 "nbformat_minor": 5
}
