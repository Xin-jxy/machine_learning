{
 "cells": [
  {
   "cell_type": "markdown",
   "metadata": {},
   "source": [
    "# Marie Tabourin"
   ]
  },
  {
   "cell_type": "code",
   "execution_count": 1,
   "metadata": {},
   "outputs": [],
   "source": [
    "import numpy as np\n",
    "np.set_printoptions(threshold=10000,suppress=True)##pour ne pas compréser les valeurs réels et affichage\n",
    "import pandas as pd ##gère data frame, lire fichier txt, exel...\n",
    "import warnings \n",
    "import matplotlib.pyplot as plt ##affichage graph\n",
    "warnings.filterwarnings('ignore') "
   ]
  },
  {
   "cell_type": "markdown",
   "metadata": {},
   "source": [
    "## Réduction de dimensions et Visualisation des données"
   ]
  },
  {
   "cell_type": "markdown",
   "metadata": {},
   "source": [
    "### Importation des données"
   ]
  },
  {
   "cell_type": "code",
   "execution_count": 2,
   "metadata": {},
   "outputs": [],
   "source": [
    "data = pd.read_csv('villes.csv', sep=';')"
   ]
  },
  {
   "cell_type": "code",
   "execution_count": 3,
   "metadata": {},
   "outputs": [
    {
     "data": {
      "text/html": [
       "<div>\n",
       "<style scoped>\n",
       "    .dataframe tbody tr th:only-of-type {\n",
       "        vertical-align: middle;\n",
       "    }\n",
       "\n",
       "    .dataframe tbody tr th {\n",
       "        vertical-align: top;\n",
       "    }\n",
       "\n",
       "    .dataframe thead th {\n",
       "        text-align: right;\n",
       "    }\n",
       "</style>\n",
       "<table border=\"1\" class=\"dataframe\">\n",
       "  <thead>\n",
       "    <tr style=\"text-align: right;\">\n",
       "      <th></th>\n",
       "      <th>ville</th>\n",
       "      <th>janv</th>\n",
       "      <th>fev</th>\n",
       "      <th>mars</th>\n",
       "      <th>avril</th>\n",
       "      <th>mai</th>\n",
       "      <th>juin</th>\n",
       "      <th>juil</th>\n",
       "      <th>aout</th>\n",
       "      <th>sept</th>\n",
       "      <th>oct</th>\n",
       "      <th>nov</th>\n",
       "      <th>dec</th>\n",
       "    </tr>\n",
       "  </thead>\n",
       "  <tbody>\n",
       "    <tr>\n",
       "      <th>0</th>\n",
       "      <td>ajac</td>\n",
       "      <td>7.7</td>\n",
       "      <td>8.7</td>\n",
       "      <td>10.5</td>\n",
       "      <td>12.6</td>\n",
       "      <td>15.9</td>\n",
       "      <td>19.8</td>\n",
       "      <td>22.0</td>\n",
       "      <td>22.2</td>\n",
       "      <td>20.3</td>\n",
       "      <td>16.3</td>\n",
       "      <td>11.8</td>\n",
       "      <td>8.7</td>\n",
       "    </tr>\n",
       "    <tr>\n",
       "      <th>1</th>\n",
       "      <td>ange</td>\n",
       "      <td>4.2</td>\n",
       "      <td>4.9</td>\n",
       "      <td>7.9</td>\n",
       "      <td>10.4</td>\n",
       "      <td>13.6</td>\n",
       "      <td>17.0</td>\n",
       "      <td>18.7</td>\n",
       "      <td>18.4</td>\n",
       "      <td>16.1</td>\n",
       "      <td>11.7</td>\n",
       "      <td>7.6</td>\n",
       "      <td>4.9</td>\n",
       "    </tr>\n",
       "    <tr>\n",
       "      <th>2</th>\n",
       "      <td>ango</td>\n",
       "      <td>4.6</td>\n",
       "      <td>5.4</td>\n",
       "      <td>8.9</td>\n",
       "      <td>11.3</td>\n",
       "      <td>14.5</td>\n",
       "      <td>17.2</td>\n",
       "      <td>19.5</td>\n",
       "      <td>19.4</td>\n",
       "      <td>16.9</td>\n",
       "      <td>12.5</td>\n",
       "      <td>8.1</td>\n",
       "      <td>5.3</td>\n",
       "    </tr>\n",
       "    <tr>\n",
       "      <th>3</th>\n",
       "      <td>besa</td>\n",
       "      <td>1.1</td>\n",
       "      <td>2.2</td>\n",
       "      <td>6.4</td>\n",
       "      <td>9.7</td>\n",
       "      <td>13.6</td>\n",
       "      <td>16.9</td>\n",
       "      <td>18.7</td>\n",
       "      <td>18.3</td>\n",
       "      <td>15.5</td>\n",
       "      <td>10.4</td>\n",
       "      <td>5.7</td>\n",
       "      <td>2.0</td>\n",
       "    </tr>\n",
       "    <tr>\n",
       "      <th>4</th>\n",
       "      <td>biar</td>\n",
       "      <td>7.6</td>\n",
       "      <td>8.0</td>\n",
       "      <td>10.8</td>\n",
       "      <td>12.0</td>\n",
       "      <td>14.7</td>\n",
       "      <td>17.8</td>\n",
       "      <td>19.7</td>\n",
       "      <td>19.9</td>\n",
       "      <td>18.5</td>\n",
       "      <td>14.8</td>\n",
       "      <td>10.9</td>\n",
       "      <td>8.2</td>\n",
       "    </tr>\n",
       "  </tbody>\n",
       "</table>\n",
       "</div>"
      ],
      "text/plain": [
       "  ville  janv  fev  mars  avril   mai  juin  juil  aout  sept   oct   nov  dec\n",
       "0  ajac   7.7  8.7  10.5   12.6  15.9  19.8  22.0  22.2  20.3  16.3  11.8  8.7\n",
       "1  ange   4.2  4.9   7.9   10.4  13.6  17.0  18.7  18.4  16.1  11.7   7.6  4.9\n",
       "2  ango   4.6  5.4   8.9   11.3  14.5  17.2  19.5  19.4  16.9  12.5   8.1  5.3\n",
       "3  besa   1.1  2.2   6.4    9.7  13.6  16.9  18.7  18.3  15.5  10.4   5.7  2.0\n",
       "4  biar   7.6  8.0  10.8   12.0  14.7  17.8  19.7  19.9  18.5  14.8  10.9  8.2"
      ]
     },
     "execution_count": 3,
     "metadata": {},
     "output_type": "execute_result"
    }
   ],
   "source": [
    "data.head()"
   ]
  },
  {
   "cell_type": "markdown",
   "metadata": {},
   "source": [
    "### Question 2"
   ]
  },
  {
   "cell_type": "code",
   "execution_count": 4,
   "metadata": {},
   "outputs": [],
   "source": [
    "X = data.iloc[:, 1:13].values ##permet de sélectionner les lignes, .values pour que ce soit un objet numpy\n",
    "labels = data.iloc[:, 0].values ##permet de sélection villes"
   ]
  },
  {
   "cell_type": "code",
   "execution_count": 5,
   "metadata": {},
   "outputs": [],
   "source": [
    "from sklearn.preprocessing import StandardScaler"
   ]
  },
  {
   "cell_type": "code",
   "execution_count": 6,
   "metadata": {},
   "outputs": [],
   "source": [
    "#Normalisation\n",
    "ss=StandardScaler() ##création de l'objet\n",
    "##pour chaque valeur on va enlever la moyenne et divisé par l'écart-type\n",
    "ss.fit(X) #fit calcul moyenne et écart-type de chaque variables X (mois) et stock\n",
    "Xnorm=ss.transform(X)"
   ]
  },
  {
   "cell_type": "code",
   "execution_count": 7,
   "metadata": {},
   "outputs": [
    {
     "data": {
      "image/png": "[encoded data removed]",
      "text/plain": [
       "<Figure size 432x288 with 1 Axes>"
      ]
     },
     "metadata": {
      "needs_background": "light"
     },
     "output_type": "display_data"
    }
   ],
   "source": [
    "from sklearn.decomposition import PCA\n",
    "\n",
    "pca = PCA()\n",
    "X_pca = pca.fit(Xnorm).transform(Xnorm)\n",
    "pca.explained_variance_\n",
    "pca.explained_variance_ratio_ \n",
    "# on observe que le premier axe donne 87% de l'information et le deuxième donne 12% de l'information\n",
    "# Il faut donc les 2 premiers axes pour avoir un minimum de 90% de l'information\n",
    "\n",
    "plt.plot(pca.explained_variance_ratio_)\n",
    "plt.show()\n",
    "# On observe avec ce graphique qu'il faut bien 2 axes"
   ]
  },
  {
   "cell_type": "code",
   "execution_count": 10,
   "metadata": {},
   "outputs": [
    {
     "data": {
      "image/png": "[encoded data removed]",
      "text/plain": [
       "<Figure size 432x288 with 1 Axes>"
      ]
     },
     "metadata": {
      "needs_background": "light"
     },
     "output_type": "display_data"
    }
   ],
   "source": [
    "import matplotlib \n",
    "plt.scatter(X_pca[:, 0], X_pca[:, 1]) \n",
    "for label, x, y in zip(labels, X_pca[:, 0], X_pca[:, 1]): \n",
    "    plt.annotate(label, xy=(x, y), xytext=(-0.2, 0.2), textcoords='offset points') \n",
    "plt.show()"
   ]
  },
  {
   "cell_type": "code",
   "execution_count": 73,
   "metadata": {},
   "outputs": [
    {
     "data": {
      "text/plain": [
       "array([[ 0.27151028,  0.28846164,  0.3010811 ,  0.30354174,  0.28353089,\n",
       "         0.27841907,  0.27290295,  0.28757774,  0.30472022,  0.3038548 ,\n",
       "         0.29242808,  0.2729549 ],\n",
       "       [ 0.39933494,  0.29907184,  0.12943051, -0.11530598, -0.32314291,\n",
       "        -0.35846763, -0.38879639, -0.3010133 , -0.11231622,  0.12249226,\n",
       "         0.26269461,  0.38693688],\n",
       "       [ 0.04409365,  0.03948181,  0.53570204,  0.5113345 ,  0.23821244,\n",
       "         0.05381216, -0.22933643, -0.25421533, -0.27486626, -0.3536259 ,\n",
       "        -0.25411937, -0.07756511],\n",
       "       [-0.1558089 ,  0.07307363,  0.54015114, -0.07666717, -0.3189685 ,\n",
       "        -0.30424435, -0.06181967,  0.16879935,  0.35726159,  0.2857622 ,\n",
       "        -0.15061539, -0.46275418],\n",
       "       [ 0.2584192 ,  0.15926626,  0.1946403 , -0.18824458, -0.55146666,\n",
       "         0.31127222,  0.43376098,  0.16314861, -0.21810887, -0.32453688,\n",
       "        -0.24260357,  0.08371863],\n",
       "       [ 0.43776933,  0.37595552, -0.38220213,  0.1890633 ,  0.17724002,\n",
       "        -0.37334457,  0.16713764,  0.08435234, -0.04199298,  0.09589578,\n",
       "        -0.4472927 , -0.26136447],\n",
       "       [-0.15261312, -0.27903424,  0.16042867,  0.08908556,  0.07905529,\n",
       "        -0.64954049,  0.33342165,  0.33970514, -0.16361469, -0.1640994 ,\n",
       "         0.028229  ,  0.39491533],\n",
       "       [-0.01028354, -0.11269172, -0.15959003,  0.21759522, -0.20645254,\n",
       "         0.13306705, -0.50676147,  0.43406456,  0.27833385, -0.0325829 ,\n",
       "        -0.43165199,  0.3794399 ],\n",
       "       [ 0.27442329, -0.55879505, -0.0577885 ,  0.41281599, -0.31225341,\n",
       "         0.07461705,  0.08076899, -0.04555364, -0.28967752,  0.47114429,\n",
       "         0.06307291, -0.13094479],\n",
       "       [-0.60763063,  0.46883187, -0.10150465,  0.25242373, -0.19109892,\n",
       "         0.04941761,  0.07372181, -0.02139433, -0.37508031,  0.34937943,\n",
       "        -0.07929465,  0.15188277],\n",
       "       [ 0.01339817, -0.17462938,  0.20219948, -0.35683559,  0.24691002,\n",
       "         0.07094949,  0.15117812, -0.35749146,  0.03054986,  0.40302251,\n",
       "        -0.54858438,  0.34662687],\n",
       "       [ 0.11862328,  0.02507744,  0.1554381 , -0.37322221,  0.27805641,\n",
       "         0.09794656, -0.31475444,  0.51545512, -0.55878203,  0.19229164,\n",
       "         0.0309434 , -0.14142013]])"
      ]
     },
     "execution_count": 73,
     "metadata": {},
     "output_type": "execute_result"
    }
   ],
   "source": [
    "pca.components_ \n",
    "# On dit qu'une composante (les mois) participe à l'axe si la valeur absolue de son poids est supérieur à |1/racine(12)| = 0,288\n",
    "# Premier axe: On observe que chaque mois participe autant au premier axe donc il semble représenter une moyenne des valeurs, c'est à dire la moyenne des températures\n",
    "# Second axe: On observe que les mois de janvier, février et décembre (hiver) participe avec un poid positif et mai, juin, juillet et aout (été) participe avec un poid négatif\n",
    "# Donc pour le second axe, plus la valeur est elevée plus la ville à des valeurs de température élevées en hiver par rapport aux autres villes,\n",
    "# et plus la valeurs est basse, plus la ville a des valeurs de température élevées en été par rapport aux autres villes"
   ]
  },
  {
   "cell_type": "markdown",
   "metadata": {},
   "source": [
    " ### Question 3"
   ]
  },
  {
   "cell_type": "code",
   "execution_count": 74,
   "metadata": {},
   "outputs": [],
   "source": [
    "dataC = pd.read_csv('crimes.csv', sep=';')"
   ]
  },
  {
   "cell_type": "code",
   "execution_count": 75,
   "metadata": {},
   "outputs": [
    {
     "data": {
      "text/html": [
       "<div>\n",
       "<style scoped>\n",
       "    .dataframe tbody tr th:only-of-type {\n",
       "        vertical-align: middle;\n",
       "    }\n",
       "\n",
       "    .dataframe tbody tr th {\n",
       "        vertical-align: top;\n",
       "    }\n",
       "\n",
       "    .dataframe thead th {\n",
       "        text-align: right;\n",
       "    }\n",
       "</style>\n",
       "<table border=\"1\" class=\"dataframe\">\n",
       "  <thead>\n",
       "    <tr style=\"text-align: right;\">\n",
       "      <th></th>\n",
       "      <th>Etat</th>\n",
       "      <th>Meutre</th>\n",
       "      <th>Rapt</th>\n",
       "      <th>Vol</th>\n",
       "      <th>Attaque</th>\n",
       "      <th>Viol</th>\n",
       "      <th>Larcin</th>\n",
       "      <th>Auto_Theft</th>\n",
       "    </tr>\n",
       "  </thead>\n",
       "  <tbody>\n",
       "    <tr>\n",
       "      <th>0</th>\n",
       "      <td>Alabama</td>\n",
       "      <td>14.2</td>\n",
       "      <td>25.2</td>\n",
       "      <td>96.8</td>\n",
       "      <td>278.3</td>\n",
       "      <td>1135.5</td>\n",
       "      <td>1881.9</td>\n",
       "      <td>280.7</td>\n",
       "    </tr>\n",
       "    <tr>\n",
       "      <th>1</th>\n",
       "      <td>Alaska</td>\n",
       "      <td>10.8</td>\n",
       "      <td>51.6</td>\n",
       "      <td>96.8</td>\n",
       "      <td>284.0</td>\n",
       "      <td>1331.7</td>\n",
       "      <td>3369.8</td>\n",
       "      <td>753.3</td>\n",
       "    </tr>\n",
       "    <tr>\n",
       "      <th>2</th>\n",
       "      <td>Arizona</td>\n",
       "      <td>9.5</td>\n",
       "      <td>34.2</td>\n",
       "      <td>138.2</td>\n",
       "      <td>312.3</td>\n",
       "      <td>2346.1</td>\n",
       "      <td>4467.4</td>\n",
       "      <td>439.5</td>\n",
       "    </tr>\n",
       "    <tr>\n",
       "      <th>3</th>\n",
       "      <td>Arkansas</td>\n",
       "      <td>8.8</td>\n",
       "      <td>27.6</td>\n",
       "      <td>83.2</td>\n",
       "      <td>203.4</td>\n",
       "      <td>972.6</td>\n",
       "      <td>1862.1</td>\n",
       "      <td>183.4</td>\n",
       "    </tr>\n",
       "    <tr>\n",
       "      <th>4</th>\n",
       "      <td>California</td>\n",
       "      <td>11.5</td>\n",
       "      <td>49.4</td>\n",
       "      <td>287.0</td>\n",
       "      <td>358.0</td>\n",
       "      <td>2139.4</td>\n",
       "      <td>3499.8</td>\n",
       "      <td>663.5</td>\n",
       "    </tr>\n",
       "  </tbody>\n",
       "</table>\n",
       "</div>"
      ],
      "text/plain": [
       "        Etat   Meutre  Rapt    Vol  Attaque    Viol  Larcin  Auto_Theft\n",
       "0     Alabama    14.2  25.2   96.8    278.3  1135.5  1881.9       280.7\n",
       "1      Alaska    10.8  51.6   96.8    284.0  1331.7  3369.8       753.3\n",
       "2     Arizona     9.5  34.2  138.2    312.3  2346.1  4467.4       439.5\n",
       "3    Arkansas     8.8  27.6   83.2    203.4   972.6  1862.1       183.4\n",
       "4  California    11.5  49.4  287.0    358.0  2139.4  3499.8       663.5"
      ]
     },
     "execution_count": 75,
     "metadata": {},
     "output_type": "execute_result"
    }
   ],
   "source": [
    "dataC.head()"
   ]
  },
  {
   "cell_type": "code",
   "execution_count": 76,
   "metadata": {},
   "outputs": [],
   "source": [
    "XC = dataC.iloc[:, 1:8].values ##permet de sélectionner les lignes, .values pour que ce soit un objet numpy\n",
    "labelsC = dataC.iloc[:, 0].values ##permet de sélection les états"
   ]
  },
  {
   "cell_type": "code",
   "execution_count": 77,
   "metadata": {},
   "outputs": [],
   "source": [
    "#Normalisation\n",
    "ssC=StandardScaler() ##création de l'objet\n",
    "##pour chaque valeur on va enlever la moyenne et divisé par l'écart-type\n",
    "ssC.fit(XC) #fit calcul moyenne et écart-type de chaque variables X (mois) et stock\n",
    "XnormC=ssC.transform(XC)"
   ]
  },
  {
   "cell_type": "code",
   "execution_count": 78,
   "metadata": {},
   "outputs": [
    {
     "data": {
      "text/plain": [
       "array([0.58785136, 0.17696026, 0.10368809, 0.04520458, 0.03685349,\n",
       "       0.03171992, 0.01772229])"
      ]
     },
     "execution_count": 78,
     "metadata": {},
     "output_type": "execute_result"
    }
   ],
   "source": [
    "pcaC = PCA()\n",
    "X_pcaC = pcaC.fit(XnormC).transform(XnormC)\n",
    "pcaC.explained_variance_\n",
    "pcaC.explained_variance_ratio_\n",
    "# Pour avoir au minimum 90% d'information il faudrait 4 axes\n",
    "# Il faut donc ne pas oublier qu'avec les 2 premiers axes nous gardons que 75% de l'information "
   ]
  },
  {
   "cell_type": "code",
   "execution_count": 79,
   "metadata": {},
   "outputs": [],
   "source": [
    "import matplotlib \n",
    "plt.scatter(X_pcaC[:, 0], X_pcaC[:, 1]) \n",
    "for label, x, y in zip(labelsC, X_pcaC[:, 0], X_pcaC[:, 1]): \n",
    "    plt.annotate(label, xy=(x, y), xytext=(-0.2, 0.2), textcoords='offset points') \n",
    "plt.show()"
   ]
  },
  {
   "cell_type": "code",
   "execution_count": 80,
   "metadata": {},
   "outputs": [
    {
     "data": {
      "text/plain": [
       "array([[ 0.30027916,  0.43175936,  0.39687549,  0.3966517 ,  0.44015721,\n",
       "         0.35735953,  0.29517681],\n",
       "       [-0.62917444, -0.16943512,  0.04224698, -0.34352815,  0.20334059,\n",
       "         0.40231912,  0.50242093],\n",
       "       [ 0.1782453 , -0.24419758,  0.49586087, -0.06950972, -0.20989509,\n",
       "        -0.53923144,  0.56838373],\n",
       "       [-0.23211411,  0.06221567, -0.55798926,  0.62980445, -0.05755491,\n",
       "        -0.23488987,  0.41923832],\n",
       "       [ 0.53812286,  0.18847069, -0.51997683, -0.50665138,  0.10103335,\n",
       "         0.03009857,  0.36975317],\n",
       "       [-0.25911677,  0.77327066,  0.11438481, -0.17236294, -0.53598716,\n",
       "        -0.03940645,  0.05729763],\n",
       "       [-0.26759277,  0.29648548,  0.00390268, -0.19174459,  0.64811708,\n",
       "        -0.60169004, -0.14704626]])"
      ]
     },
     "execution_count": 80,
     "metadata": {},
     "output_type": "execute_result"
    }
   ],
   "source": [
    "pcaC.components_ \n",
    "# On dit qu'une composante (les crimes) participe à l'axe si la valeur absolue de son poids est supérieur à |1/racine(7)| = 0,38\n",
    "# Premier axe: On observe que tous les crimes participe mais moins le meurtre, l'auto-theft et larcin qui ne permette pas de bien discriminer les états car ils sont présents un peu partout.\n",
    "# Second axe: On observe que meutre participe avec un poids negatif et que Larcin et Auto_Theft participe avec des poids positifs\n",
    "# Pour le second axe, quand les valeurs sont élevées, cela signifie que l'état a beaucoup de Larcin et Auto-Theft par rapport au autres états,\n",
    "# et quand les valeurs sont basses, cela signifie que l'état a beaucoup de Meurtre et Attaque par rapport aux autres états\n",
    "\n",
    "# On observe ici, qu'il est difficile de séparer les villes"
   ]
  },
  {
   "cell_type": "markdown",
   "metadata": {},
   "source": [
    "### Question 4"
   ]
  },
  {
   "cell_type": "code",
   "execution_count": 31,
   "metadata": {},
   "outputs": [],
   "source": [
    "dataS = pd.read_csv('50_Startups.csv', sep=';')"
   ]
  },
  {
   "cell_type": "code",
   "execution_count": 32,
   "metadata": {},
   "outputs": [
    {
     "data": {
      "text/html": [
       "<div>\n",
       "<style scoped>\n",
       "    .dataframe tbody tr th:only-of-type {\n",
       "        vertical-align: middle;\n",
       "    }\n",
       "\n",
       "    .dataframe tbody tr th {\n",
       "        vertical-align: top;\n",
       "    }\n",
       "\n",
       "    .dataframe thead th {\n",
       "        text-align: right;\n",
       "    }\n",
       "</style>\n",
       "<table border=\"1\" class=\"dataframe\">\n",
       "  <thead>\n",
       "    <tr style=\"text-align: right;\">\n",
       "      <th></th>\n",
       "      <th>Id</th>\n",
       "      <th>Depenses R&amp;D</th>\n",
       "      <th>Depenses Administration</th>\n",
       "      <th>Depenses Marketing Spend</th>\n",
       "      <th>Benefice</th>\n",
       "    </tr>\n",
       "  </thead>\n",
       "  <tbody>\n",
       "    <tr>\n",
       "      <th>0</th>\n",
       "      <td>1</td>\n",
       "      <td>165349.20</td>\n",
       "      <td>136897.80</td>\n",
       "      <td>471784.10</td>\n",
       "      <td>192261.83</td>\n",
       "    </tr>\n",
       "    <tr>\n",
       "      <th>1</th>\n",
       "      <td>2</td>\n",
       "      <td>162597.70</td>\n",
       "      <td>151377.59</td>\n",
       "      <td>443898.53</td>\n",
       "      <td>191792.06</td>\n",
       "    </tr>\n",
       "    <tr>\n",
       "      <th>2</th>\n",
       "      <td>3</td>\n",
       "      <td>153441.51</td>\n",
       "      <td>101145.55</td>\n",
       "      <td>407934.54</td>\n",
       "      <td>191050.39</td>\n",
       "    </tr>\n",
       "    <tr>\n",
       "      <th>3</th>\n",
       "      <td>4</td>\n",
       "      <td>144372.41</td>\n",
       "      <td>118671.85</td>\n",
       "      <td>383199.62</td>\n",
       "      <td>182901.99</td>\n",
       "    </tr>\n",
       "    <tr>\n",
       "      <th>4</th>\n",
       "      <td>5</td>\n",
       "      <td>142107.34</td>\n",
       "      <td>91391.77</td>\n",
       "      <td>366168.42</td>\n",
       "      <td>166187.94</td>\n",
       "    </tr>\n",
       "  </tbody>\n",
       "</table>\n",
       "</div>"
      ],
      "text/plain": [
       "   Id  Depenses R&D  Depenses Administration  Depenses Marketing Spend  \\\n",
       "0   1     165349.20                136897.80                 471784.10   \n",
       "1   2     162597.70                151377.59                 443898.53   \n",
       "2   3     153441.51                101145.55                 407934.54   \n",
       "3   4     144372.41                118671.85                 383199.62   \n",
       "4   5     142107.34                 91391.77                 366168.42   \n",
       "\n",
       "    Benefice  \n",
       "0  192261.83  \n",
       "1  191792.06  \n",
       "2  191050.39  \n",
       "3  182901.99  \n",
       "4  166187.94  "
      ]
     },
     "execution_count": 32,
     "metadata": {},
     "output_type": "execute_result"
    }
   ],
   "source": [
    "dataS.head()"
   ]
  },
  {
   "cell_type": "code",
   "execution_count": 33,
   "metadata": {},
   "outputs": [],
   "source": [
    "XS = dataS.iloc[:, 1:5].values ##permet de sélectionner les lignes, .values pour que ce soit un objet numpy\n",
    "labelsS = dataS.iloc[:, 0].values "
   ]
  },
  {
   "cell_type": "code",
   "execution_count": 34,
   "metadata": {},
   "outputs": [],
   "source": [
    "#Normalisation\n",
    "ssS=StandardScaler() ##création de l'objet\n",
    "##pour chaque valeur on va enlever la moyenne et divisé par l'écart-type\n",
    "ssS.fit(XS) #fit calcul moyenne et écart-type de chaque variables X (mois) et stock\n",
    "XnormS=ssS.transform(XS)"
   ]
  },
  {
   "cell_type": "code",
   "execution_count": 36,
   "metadata": {},
   "outputs": [
    {
     "data": {
      "text/plain": [
       "array([0.66804393, 0.25484695, 0.07063561, 0.00647351])"
      ]
     },
     "execution_count": 36,
     "metadata": {},
     "output_type": "execute_result"
    }
   ],
   "source": [
    "pcaS = PCA()\n",
    "X_pcaS = pcaS.fit(XnormS).transform(XnormS)\n",
    "pcaS.explained_variance_\n",
    "pcaS.explained_variance_ratio_\n",
    "\n",
    "# Les 2 premiers axes permettent de conserver environ 91% de l'information"
   ]
  },
  {
   "cell_type": "code",
   "execution_count": 37,
   "metadata": {},
   "outputs": [
    {
     "data": {
      "image/png": "[encoded data removed]",
      "text/plain": [
       "<Figure size 432x288 with 1 Axes>"
      ]
     },
     "metadata": {
      "needs_background": "light"
     },
     "output_type": "display_data"
    }
   ],
   "source": [
    "import matplotlib \n",
    "plt.scatter(X_pcaS[:, 0], X_pcaS[:, 1]) \n",
    "for label, x, y in zip(labelsS, X_pcaS[:, 0], X_pcaS[:, 1]): \n",
    "    plt.annotate(label, xy=(x, y), xytext=(-0.2, 0.2), textcoords='offset points') \n",
    "plt.show()"
   ]
  },
  {
   "cell_type": "code",
   "execution_count": 39,
   "metadata": {},
   "outputs": [
    {
     "data": {
      "text/plain": [
       "array([[ 0.59347855,  0.14737886,  0.52064694,  0.59580992],\n",
       "       [-0.04048087, -0.95051314,  0.30797098,  0.00632069],\n",
       "       [-0.39681837,  0.2723039 ,  0.79581463, -0.36751167],\n",
       "       [ 0.69905629, -0.02558964,  0.0275629 , -0.71407686]])"
      ]
     },
     "execution_count": 39,
     "metadata": {},
     "output_type": "execute_result"
    }
   ],
   "source": [
    "pcaS.components_ \n",
    "# On dit qu'une composante (les dépenses) participe à l'axe si la valeur absolue de son poids est supérieur à |1/racine(4)| = 0,5\n",
    "# Pour l'axe 1: On observe que toutes les dépenses participent sauf les dépences administratives qui participe très peu. Donc plus la startups à de dépences plus la valeur sur cet axe sera élevé.\n",
    "\n",
    "# Pour l'axe 2: On observe que seul les dépenses administratives participe vraiment à cet axe. Plus la valeur sur l'axe est faible plus les dépenses administratives sont élevées dans la startups.\n"
   ]
  },
  {
   "cell_type": "markdown",
   "metadata": {},
   "source": [
    "## Clustering"
   ]
  },
  {
   "cell_type": "markdown",
   "metadata": {},
   "source": [
    "### Question 1 : KMeans"
   ]
  },
  {
   "cell_type": "code",
   "execution_count": 13,
   "metadata": {},
   "outputs": [],
   "source": [
    "import matplotlib \n",
    "from sklearn.cluster import KMeans\n",
    "\n",
    "kmeans = KMeans(n_clusters=3, random_state=0).fit(X_pca)\n",
    "clustering =  kmeans.labels_\n"
   ]
  },
  {
   "cell_type": "code",
   "execution_count": 14,
   "metadata": {},
   "outputs": [
    {
     "data": {
      "image/png": "[encoded data removed]",
      "text/plain": [
       "<Figure size 432x288 with 1 Axes>"
      ]
     },
     "metadata": {
      "needs_background": "light"
     },
     "output_type": "display_data"
    }
   ],
   "source": [
    "colors = ['red','yellow','blue','pink']     \n",
    "plt.scatter(X_pca[:, 0], X_pca[:, 1], c= clustering, cmap=matplotlib.colors.ListedColormap(colors)) \n",
    "for label, x, y in zip(labels, X_pca[:, 0], X_pca[:, 1]): \n",
    "    plt.annotate(label, xy=(x, y), xytext=(-0.2, 0.2), textcoords='offset points') \n",
    "plt.show() "
   ]
  },
  {
   "cell_type": "markdown",
   "metadata": {},
   "source": [
    "### Question 2"
   ]
  },
  {
   "cell_type": "code",
   "execution_count": 20,
   "metadata": {},
   "outputs": [],
   "source": [
    "from sklearn.cluster import AgglomerativeClustering\n",
    "\n",
    "#ward: minimise la variance des clusters qui sont combinés\n",
    "aggloClus = AgglomerativeClustering(n_clusters=3, linkage='ward').fit(X_pca)\n",
    "clustering =  aggloClus.labels_\n"
   ]
  },
  {
   "cell_type": "code",
   "execution_count": 21,
   "metadata": {},
   "outputs": [
    {
     "data": {
      "image/png": "[encoded data removed]",
      "text/plain": [
       "<Figure size 432x288 with 1 Axes>"
      ]
     },
     "metadata": {
      "needs_background": "light"
     },
     "output_type": "display_data"
    }
   ],
   "source": [
    "colors = ['red','yellow','blue','pink']     \n",
    "plt.scatter(X_pca[:, 0], X_pca[:, 1], c= clustering, cmap=matplotlib.colors.ListedColormap(colors)) \n",
    "for label, x, y in zip(labels, X_pca[:, 0], X_pca[:, 1]): \n",
    "    plt.annotate(label, xy=(x, y), xytext=(-0.2, 0.2), textcoords='offset points') \n",
    "plt.show() "
   ]
  },
  {
   "cell_type": "code",
   "execution_count": 22,
   "metadata": {},
   "outputs": [
    {
     "data": {
      "image/png": "[encoded data removed]",
      "text/plain": [
       "<Figure size 432x288 with 1 Axes>"
      ]
     },
     "metadata": {
      "needs_background": "light"
     },
     "output_type": "display_data"
    }
   ],
   "source": [
    "#average: utilise la moyenne des distances de chaque observation dans les groupes\n",
    "aggloClus = AgglomerativeClustering(n_clusters=3, linkage='average').fit(X_pca)\n",
    "clustering =  aggloClus.labels_\n",
    "\n",
    "colors = ['red','yellow','blue','pink']     \n",
    "plt.scatter(X_pca[:, 0], X_pca[:, 1], c= clustering, cmap=matplotlib.colors.ListedColormap(colors)) \n",
    "for label, x, y in zip(labels, X_pca[:, 0], X_pca[:, 1]): \n",
    "    plt.annotate(label, xy=(x, y), xytext=(-0.2, 0.2), textcoords='offset points') \n",
    "plt.show()"
   ]
  },
  {
   "cell_type": "code",
   "execution_count": null,
   "metadata": {},
   "outputs": [],
   "source": [
    "# On peut observer des différences entre les différentes techniques de clustering"
   ]
  },
  {
   "cell_type": "markdown",
   "metadata": {},
   "source": [
    "### Question 3"
   ]
  },
  {
   "cell_type": "code",
   "execution_count": 23,
   "metadata": {},
   "outputs": [
    {
     "name": "stdout",
     "output_type": "stream",
     "text": [
      "0.625557719180767\n",
      "\n",
      "0.37382458484049585\n",
      "\n",
      "0.36151471170277016\n",
      "\n",
      "0.3188267694089411\n",
      "\n"
     ]
    }
   ],
   "source": [
    "from sklearn import metrics \n",
    "for i in np.arange(2, 6): \n",
    "    clustering = KMeans(n_clusters=i).fit_predict(X_pca) \n",
    "    print(metrics.silhouette_score(X_pca, clustering,metric='euclidean')) \n",
    "    print() "
   ]
  },
  {
   "cell_type": "code",
   "execution_count": null,
   "metadata": {},
   "outputs": [],
   "source": [
    "# La meilleure partition qui correspond à un indice maximal pour l'indice Silhouette est de 2"
   ]
  },
  {
   "cell_type": "markdown",
   "metadata": {},
   "source": [
    "### Question 4"
   ]
  },
  {
   "cell_type": "code",
   "execution_count": null,
   "metadata": {},
   "outputs": [],
   "source": [
    "# Nous allons calculer l'indice Silhouette pour 3 cluster pour chaque algorithme "
   ]
  },
  {
   "cell_type": "code",
   "execution_count": 25,
   "metadata": {},
   "outputs": [
    {
     "name": "stdout",
     "output_type": "stream",
     "text": [
      "0.383650033203073\n",
      "\n",
      "0.36807826080005457\n",
      "\n",
      "0.4956874462691092\n",
      "\n"
     ]
    }
   ],
   "source": [
    "# KMeans\n",
    "clustering = KMeans(n_clusters=3).fit_predict(X_pca) \n",
    "print(metrics.silhouette_score(X_pca, clustering,metric='euclidean')) \n",
    "print()\n",
    "\n",
    "# AgglomerativeClustering : ward\n",
    "clustering = AgglomerativeClustering(n_clusters=3, linkage='ward').fit_predict(X_pca)\n",
    "print(metrics.silhouette_score(X_pca, clustering,metric='euclidean')) \n",
    "print()\n",
    "\n",
    "# AgglomerativeClustering : average\n",
    "clustering = AgglomerativeClustering(n_clusters=3, linkage='average').fit_predict(X_pca)\n",
    "print(metrics.silhouette_score(X_pca, clustering,metric='euclidean')) \n",
    "print()"
   ]
  },
  {
   "cell_type": "code",
   "execution_count": null,
   "metadata": {},
   "outputs": [],
   "source": [
    "# On observe que le meilleur algorithme qui possède l'indice Silhouette le plus élevé est l'algorithme AgglomerativeClustering avec la méthode d'agrégation average."
   ]
  }
 ],
 "metadata": {
  "kernelspec": {
   "display_name": "Python 3 (ipykernel)",
   "language": "python",
   "name": "python3"
  },
  "language_info": {
   "codemirror_mode": {
    "name": "ipython",
    "version": 3
   },
   "file_extension": ".py",
   "mimetype": "text/x-python",
   "name": "python",
   "nbconvert_exporter": "python",
   "pygments_lexer": "ipython3",
   "version": "3.8.2"
  }
 },
 "nbformat": 4,
 "nbformat_minor": 4
}
